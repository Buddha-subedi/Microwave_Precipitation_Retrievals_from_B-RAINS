{
  "cells": [
    {
      "cell_type": "markdown",
      "id": "5d842c86-c045-4eae-a4e8-1286a08ae7c6",
      "metadata": {
        "id": "5d842c86-c045-4eae-a4e8-1286a08ae7c6"
      },
      "source": [
        "[![Open In Colab](https://colab.research.google.com/assets/colab-badge.svg)](https://colab.research.google.com/github/Buddha-subedi/Microwave_Precipitation_Retrievals_from_B-RAINS/blob/main/B-RAINS_demo.ipynb)"
      ]
    },
    {
      "cell_type": "markdown",
      "id": "a813022b-b513-400d-8c4b-a1e09bfeb98c",
      "metadata": {
        "id": "a813022b-b513-400d-8c4b-a1e09bfeb98c"
      },
      "source": [
        "# <center> <font color='blue'> **Boosted Transfer Learning for Passive Microwave Precipitation Retrievals** <center>\n",
        "\n",
        "#### <center> <font color='balck'> Buddha Subedi, Mahyar Garshasbi, Ardeshir Ebtehaj <center>\n",
        "#### <center> Saint Anthony Falls Laboratory, Department of Civil Environmental and Geo- Engineering,\n",
        "#### <center> University of Minnesota <center>\n",
        "#### <center> Date: May, 2025 (rev 01)\n",
        "\n",
        "---\n",
        "<p align=\"justify\"> This notebook representes the results of an algorithm, called the Boosted tRansfer-leArning for PMW precIpitationN Retrievals (B-RAINS) for passive microwave retrieval of precipitation. B-RAINS enables (i) the integration of the information content from ESMs into the retrieval process and (ii) the fusion of multi-satellite observations across varying spatial and temporal resolutions through meta-model learning. The architecture leverages transfer learning by incorporating low-level priors from ESMs and refining them with high-level features derived from satellite-based active retrievals, enhancing accuracy in regions and periods with limited training data. The algorithm first detects the precipitation occurrence and phase and then estimates its rate, while conditioning the results to some key cloud microphysical and environmental variables as further explained later on in Section 1.2. Through ensemble meta-modeling, B-RAINS combines data from multiple spaceborne radars operating at Ka, Ku, and W bands to improve the detection of rainfall and snowfall. Application and validation using data from the Global Precipitation Measurement (GPM) mission and CloudSat's Cloud Profiling Radar (CPR) show that B-RAINS achieves comparable accuracy to existing methods for rain retrievals and delivers substantial improvements in global snowfall estimates when benchmarked against version V07 of the official GPM data products and Multi-Radar/Multi-Sensor System (MRMS) precipitation estimates over the contiguous United States.\n",
        "\n",
        "This notebook is organized as follows. Section 1, describes the data including the GPM and CloudSat products as well as the ERA5 reanalysis data from the European Centre for Medium-Range Weather Forecasts (ECMWF). Section 2 describes the methodolgy for training the networks, and the last section provides an example for precipitation orbital retrieval using the proposed algorithm."
      ]
    },
    {
      "cell_type": "markdown",
      "id": "d495e3bc-9c78-4216-8d2c-c9663223408b",
      "metadata": {
        "id": "d495e3bc-9c78-4216-8d2c-c9663223408b"
      },
      "source": [
        "# **1. Data**"
      ]
    },
    {
      "cell_type": "markdown",
      "id": "3abe0569-6936-4365-83d2-3e40f5d4bde8",
      "metadata": {
        "id": "3abe0569-6936-4365-83d2-3e40f5d4bde8"
      },
      "source": [
        "**1.1** **Data Description**\n",
        "\n",
        "In this study, we considered coincidences of GMI and CPR from April 2014 to July 2019, and coincidences of GMI and DPR data in 2015 and 2023. Furthermore, ancillary information related to atmospheric conditions, surface types and topography are added to all coincidences using the [ERA5](https://www.ecmwf.int/en/forecasts/datasets/reanalysis-datasets/era5) reanalysis products -- available at spatial resolution of 31km and [GTOPO](https://www.usgs.gov/centers/eros/science/usgs-eros-archive-digital-elevation-global-30-arc-second-elevation-gtopo30) -- available at spatial resolution of 1km.\n",
        "\n",
        "**Atmospheric Variables**\n",
        "*   tclw = Total Column Cloud Liquid Water ($\\rm kg/m^2$)\n",
        "*   tciw = Total Column Cloud Ice Water ($\\rm kg/m^2$)\n",
        "*   tcwv = Total Column Water Vapor ($\\rm kg/m^2$)\n",
        "*   cape = Convective Available Potential Energy ($\\rm j/kg$)\n",
        "*   t2m = 2m air temperature ($\\rm K$)\n",
        "*   u10 = 10m u-component of wind ($\\rm m/s$)\n",
        "*   v10 = 10m v-component of wind ($\\rm m/s$)\n",
        "*   tcslw = Total Column Supercooled Liquid Water ($\\rm \\frac{kg}{m^2}$)\n",
        "*   tcw = Total Column Water ($\\rm \\frac{kg}{m^3}$)\n",
        "*   cin = Convective Inhibition ($\\rm j/kg$)\n",
        "\n",
        "**Surface Type Variables**\n",
        "*   lsm = LandSeaMask\n",
        "*   siconc = Sea Ice Area Fraction\n",
        "*   sd = Snow Depth ($\\rm m$)\n",
        "*   asn = Snow Albedo (-)\n",
        "*   rsn = Snow Density\n",
        "*   swvl1 = Volumetric Soil Water Layer1 (-)\n",
        "\n",
        "**Orographic Variables**\n",
        "* Elevation ($\\rm m$)\n",
        "* Aspect\n",
        "\n",
        "The GMI-CPR coincidences rely on the level-II CloudSat products (R05) including the 2C-PRECIP-COLUMN  and the 2C-SNOW-PROFILE that contains near-surface rain and snowfall rates.  To avoid ground-clutter contamination over complex elevated terrains, the near-surface snowfall rate is reported at 3rd (5th) radar bin above the oceans (land) at 720 (1200) m above the surface.\n",
        "\n",
        "The 2A-DPR product, retrieved from Ku-band reflectivity, consists the near-surface precipitation phase and its intensity. It should be noted that the DPR algorithm uses precipitation phase at the lowest radar range gate uncontaminated by surface clutter, which may be 0.5--2.0 km above the surface (even over oceans).\n",
        "\n",
        "Figure 1, represents the way the coincidences between GMI and CloudSat profiling radar (CPR) and GMI and DPR are collected. For more details with respect to the CloudSat and GMI please refer to ([2](https://journals.ametsoc.org/view/journals/hydr/22/7/JHM-D-20-0296.1.xml))"
      ]
    },
    {
      "cell_type": "markdown",
      "id": "445b0918-b04e-45a9-a780-734d67410391",
      "metadata": {
        "id": "445b0918-b04e-45a9-a780-734d67410391"
      },
      "source": [
        "<div align=\"center\">\n",
        "  <img src=\"https://github.com/Buddha-subedi/Microwave_Precipitation_Retrievals_from_B-RAINS/blob/main/images/coincidence_image.png?raw=1\" alt=\"Coincidence Image\" width=\"800\"/><br/>\n",
        "  <em><strong>Figure 1.</strong> Schematic of a CloudSat-GPM coincidence segment (left), and DPR-GMI coincidence (right).</em>\n",
        "</div>"
      ]
    },
    {
      "cell_type": "markdown",
      "id": "13a166a3-87a1-49f2-b332-7cccf6f091dd",
      "metadata": {
        "id": "13a166a3-87a1-49f2-b332-7cccf6f091dd"
      },
      "source": [
        "Resolution mismatches between input and output data sources can introduce information redundancy and exacerbate the inherent non-uniqueness of the inverse problem in precipitation retrievals. In this study, all retrievals are performed at the nominal footprint resolution of GMI pixels (5.1$\\times$13.2~km). The total number of samples, after harmonization, in phase detection (rate estimation) is 7,000,000 from ERA5 (2,500,000 rain, 1,000,000 snow), 240,800 from CPR (47,123 snow), and 2,800,000 from DPR (1,700,000 rain) for DPR coincidences. The data sets are partitioned into 70, 15, and 15 percent for training, testing, and validation."
      ]
    },
    {
      "cell_type": "markdown",
      "id": "beeaf717-9df5-4e8a-9cb0-2f5503e2c0de",
      "metadata": {
        "id": "beeaf717-9df5-4e8a-9cb0-2f5503e2c0de"
      },
      "source": [
        "## **1.2 Database Organization and Loading**\n",
        "\n",
        "**Inputs for the phase detection and rate estimation are as follows:**\n",
        "> **Inputs:**\n",
        "\n",
        "*   $\\text{TB} = X_{train}(:,1:13)$ (Brightness Temperature at 13 GMI channels [K])\n",
        "*   $ \\text{tciw} = X_{train}(:,14)$ (Cloud Liquid Water Path)\n",
        "*   $\\text{tclw} = X_{train}(:,15)$ (Cloud Ice Water Path)\n",
        "*   $\\text{tcwv} = X_{train}(:,16)$ (2-meter Air Temperature)\n",
        "*   $\\text{t2m} = X_{train}(:,17)$ (Water Vapor Path)\n",
        "*   $\\text{cape} = X_{train}(:,18)$ (Convective Potential Energy)\n",
        "\n",
        "*   $\\text{u10} = X_{train}(:,19)$ (10m u-component of wind)\n",
        "*   $ \\text{v10} = X_{train}(:,20)$ (10m v-component of wind)\n",
        "*   $\\text{skt} = X_{train}(:,21)$ (Skin Temperature)\n",
        "*   $\\text{asn} = X_{train}(:,22)$ (Snow Albedo)\n",
        "*   $\\text{rsn} = X_{train}(:,23)$ (Snow Density)\n",
        "*   $\\text{cin} = X_{train}(:,24)$ (Convective Inhibition)\n",
        "\n",
        "*   $\\text{sd} = X_{train}(:,25)$ (Snow Depth)\n",
        "*   $ \\text{tcslw} = X_{train}(:,26)$ (Total Column Supercooled Liquid Water)\n",
        "*   $\\text{tcw} = X_{train}(:,27)$ (Total Column Water)\n",
        "*   $\\text{swvl1} = X_{train}(:,28)$ (Snow Albedo)\n",
        "*   $\\text{lsm} = X_{train}(:,29)$ (Snow Density)\n",
        "*   $\\text{siconc} = X_{train}(:,30)$ (Convective Inhibition)\n",
        "\n",
        "*   $\\text{Latitude} = X_{train}(:,31)$ (Snow Depth)\n",
        "*   $ \\text{Longitude} = X_{train}(:,32)$ (Total Column Supercooled Liquid Water)\n",
        "*   $\\text{Month} = X_{train}(:,33)$ (Total Column Water)\n",
        "*   $\\text{Day} = X_{train}(:,34)$ (Snow Albedo)\n",
        "*   $\\text{Elevation} = X_{train}(:,35)$ (Snow Density)\n",
        "*   $\\text{Aspect} = X_{train}(:,36)$ (Convective Inhibition)\n",
        "\n",
        "\n",
        "> **Outputs:**\n",
        "\n",
        "*   Output of the phase network is a vector containing three integer values **0 (no precipitation)**, **1 (rainfall)**, and **2 (snowfall)**\n",
        "\n",
        "**For the precipitation estimation, the inputs and outputs are as follows:**\n",
        "\n",
        "> **Inputs:**\n",
        "\n",
        "*    The same set of input features that was used for classification is used here as well\n",
        "\n",
        "> **Outputs**:\n",
        "\n",
        "*   Output of the estimation network is a vector containing rainfall/snowfall rate [$\\rm mm.hr^{-1}$]."
      ]
    },
    {
      "cell_type": "markdown",
      "id": "8daddb9a-4a1b-488e-b565-abe5db136e1b",
      "metadata": {
        "id": "8daddb9a-4a1b-488e-b565-abe5db136e1b"
      },
      "source": [
        "## **1.3 Code**\n",
        "To run this notebook, you need to download this folder and run the code in the Local"
      ]
    },
    {
      "cell_type": "code",
      "source": [
        "# Clone the repo\n",
        "import os\n",
        "!git clone https://github.com/Buddha-subedi/Microwave_Precipitation_Retrievals_from_B-RAINS.git\n",
        "os.chdir(\"Microwave_Precipitation_Retrievals_from_B-RAINS\")"
      ],
      "metadata": {
        "id": "5dH4MvG0pI3q",
        "outputId": "55d62d24-d37f-4a08-d6ad-a10e33206de1",
        "colab": {
          "base_uri": "https://localhost:8080/"
        }
      },
      "id": "5dH4MvG0pI3q",
      "execution_count": 51,
      "outputs": [
        {
          "output_type": "stream",
          "name": "stdout",
          "text": [
            "Cloning into 'Microwave_Precipitation_Retrievals_from_B-RAINS'...\n",
            "remote: Enumerating objects: 270, done.\u001b[K\n",
            "remote: Counting objects: 100% (130/130), done.\u001b[K\n",
            "remote: Compressing objects: 100% (127/127), done.\u001b[K\n",
            "remote: Total 270 (delta 60), reused 11 (delta 3), pack-reused 140 (from 1)\u001b[K\n",
            "Receiving objects: 100% (270/270), 74.87 MiB | 20.86 MiB/s, done.\n",
            "Resolving deltas: 100% (102/102), done.\n"
          ]
        }
      ]
    },
    {
      "cell_type": "code",
      "execution_count": 3,
      "id": "3055bccb-7543-4c53-ae95-e7a0063d30a6",
      "metadata": {
        "id": "3055bccb-7543-4c53-ae95-e7a0063d30a6"
      },
      "outputs": [],
      "source": [
        "# Import Necessary Packages\n",
        "import numpy as np\n",
        "import pandas as pd\n",
        "from sklearn.utils import shuffle\n",
        "from pathlib import Path\n",
        "import xgboost as xgb\n",
        "import os\n",
        "import scipy.io\n",
        "import pmw_utils\n",
        "import importlib\n",
        "import matplotlib.pyplot as plt\n",
        "import matplotlib.colors as mcolors\n",
        "from sklearn.model_selection import train_test_split\n",
        "from sklearn.metrics import accuracy_score, confusion_matrix, f1_score, mean_squared_error\n",
        "import scipy.stats as stats\n",
        "from scipy.interpolate import interp1d\n",
        "importlib.reload(pmw_utils)\n",
        "from pmw_utils import plot_confusion_matrix, BRAINS_model"
      ]
    },
    {
      "cell_type": "code",
      "execution_count": 50,
      "id": "c7d29d58-31aa-4200-be5c-77fe0305af48",
      "metadata": {
        "id": "c7d29d58-31aa-4200-be5c-77fe0305af48"
      },
      "outputs": [],
      "source": [
        "paths_phase = {\n",
        "    'cpr_train': 'data/df_cpr_phase_train.npz',\n",
        "    'cpr_test':  'data/df_cpr_phase_test.npz',\n",
        "    'dpr_train': 'data/df_dpr_phase_train.npz',\n",
        "    'dpr_test':  'data/df_dpr_phase_test.npz',\n",
        "    'era5_train': 'data/df_era5_phase_train.npz',\n",
        "    'era5_test':  'data/df_era5_phase_test.npz'\n",
        "}\n",
        "data = {k: np.load(p) for k, p in paths_phase.items()}\n",
        "dfs = {k: pd.DataFrame(dict(v)) for k, v in data.items()}\n",
        "df_cpr_phase_train = dfs['cpr_train']\n",
        "df_cpr_phase_test  = dfs['cpr_test']\n",
        "df_dpr_phase_train = dfs['dpr_train']\n",
        "df_dpr_phase_test  = dfs['dpr_test']\n",
        "df_era5_phase_train = dfs['era5_train']\n",
        "df_era5_phase_test  = dfs['era5_test']"
      ]
    },
    {
      "cell_type": "code",
      "source": [
        "paths_rate = {\n",
        "    'cpr_snow_rate_train': 'data/df_csat_snow_rate_train.npz',\n",
        "    'cpr_snow_rate_test':  'data/df_csat_snow_rate_test.npz',\n",
        "    'dpr_rain_rate_train': 'data/df_dpr_rain_rate_train.npz',\n",
        "    'dpr_rain_rate_test':  'data/df_dpr_rain_rate_test.npz',\n",
        "    'era5_snow_rate_train': 'data/df_era5_snow_rate_train.npz',\n",
        "    'era5_snow_rate_test':  'data/df_era5_snow_rate_test.npz',\n",
        "    'era5_rain_rate_train': 'data/df_era5_rain_rate_train.npz',\n",
        "    'era5_rain_rate_test':  'data/df_era5_rain_rate_test.npz'\n",
        "}\n",
        "\n",
        "# Load .npz files\n",
        "data = {k: np.load(p) for k, p in paths_rate.items()}\n",
        "\n",
        "# Convert to DataFrames\n",
        "dfs = {k: pd.DataFrame(dict(v)) for k, v in data.items()}\n",
        "\n",
        "# Assign to variables\n",
        "df_cpr_snow_rate_train = dfs['cpr_snow_rate_train']\n",
        "df_cpr_snow_rate_test  = dfs['cpr_snow_rate_test']\n",
        "df_dpr_rain_rate_train = dfs['dpr_rain_rate_train']\n",
        "df_dpr_rain_rate_test  = dfs['dpr_rain_rate_test']\n",
        "df_era5_snow_rate_train = dfs['era5_snow_rate_train']\n",
        "df_era5_snow_rate_test  = dfs['era5_snow_rate_test']\n",
        "df_era5_rain_rate_train = dfs['era5_rain_rate_train']\n",
        "df_era5_rain_rate_test  = dfs['era5_rain_rate_test']"
      ],
      "metadata": {
        "id": "oPJkoV0990vN"
      },
      "id": "oPJkoV0990vN",
      "execution_count": 52,
      "outputs": []
    },
    {
      "cell_type": "markdown",
      "source": [
        "# **2.  METHODOLOGY**\n",
        "Boosted tRansfer-leArning for precIpitatioN RetrievalS (B-RAINS) presents an ensemble learning architecture that stacks parallel XGBoost base learners and combines their inference through a meta-model. initially, a finite set of top boosters is trained exclusively on ERA5 data, after which these boosters are frozen -- that is, their structure, including the number of trees, depth, nodes, and splitting criteria, is fixed. Additional bottom boosters are then appended and trained on satellite-based observations to capture the finer-scale information embedded in active retrievals. Each base learner is satellite-specific and tailored to either DPR or CPR data. In the classification stage, the base learners' output class probabilities represent clear, snowy, and rainy from both ERA5-CPR and ERA5-DPR, which are then fused using an XGBoost meta-model, producing the final precipitation phase prediction. Following phase classification, two additional parallel base learners estimate rain and snow rates, respectively."
      ],
      "metadata": {
        "id": "--bC_VpptNPJ"
      },
      "id": "--bC_VpptNPJ"
    },
    {
      "cell_type": "markdown",
      "source": [
        "<div align=\"center\">\n",
        "  <img src=\"https://github.com/Buddha-subedi/Microwave_Precipitation_Retrievals_from_B-RAINS/blob/main/images/Fig_01.png?raw=1\" alt=\"B-RAINS Architecture\" width=\"700\"/><br/>\n",
        "  <em>\n",
        "    <strong>Figure 2.</strong> The architecture of the Boosted tRansfer-leArning for precIpitatioN RetrievalS (B-RAINS) that stacks parallel XGBoost base learners and combines their inference through a meta-model. Step 1 detects the precipitation occurrence and phase, and Step 2 estimates the rain and snow rate, with the subscripts <code>L</code> and <code>R</code> denoting labels and rates of the data sets. The retrievals transfer the learning from ERA5 to satellite through incremental training of the base learners in both steps. After learning ERA5, the number of parallel trees, tree booster numbers, depths, and splitting nodes are frozen (FZ) for the top part of the decision trees.\n",
        "  </em>\n",
        "</div>"
      ],
      "metadata": {
        "id": "yNhBUiO5tZh1"
      },
      "id": "yNhBUiO5tZh1"
    },
    {
      "cell_type": "markdown",
      "source": [
        "Figure 3 displays precipitation retrievals for a snowstorm and a rainstorm observed by GMI orbit 027551 over the Southern and Indian Oceans. The first column shows results using only $n_e = 90$ boosting rounds, trained exclusively on ERA5 precipitation flags and rates. When additional $n_s$ boosting trees are incrementally added to capture the information content of satellite data pairs, finer spatial details and higher intensity values emerge. Concurrently, low-intensity precipitation at the storm peripheries, initially shaped by learning from the coarse resolution of ERA5, gradually diminishes, as B-RAINS adapts and partially ``forgets'' the low-resolution ERA5 data in favor of a higher fidelity to satellite information."
      ],
      "metadata": {
        "id": "p3Z8jyXktlGg"
      },
      "id": "p3Z8jyXktlGg"
    },
    {
      "cell_type": "markdown",
      "source": [
        "<div align=\"center\">\n",
        "  <img src=\"https://github.com/Buddha-subedi/Microwave_Precipitation_Retrievals_from_B-RAINS/blob/main/images/Fig_03.png?raw=1\" alt=\"Impact of Transfer Learning\" width=\"800\"/><br/>\n",
        "  <em>\n",
        "    <strong>Figure 3.</strong> Impacts of transfer learning on retrievals of a rain storm (a–e) and a snow storm (f–j) over the Southern and Indian Oceans on 01/04/2019 (orbit 027551), with <code>n_e</code> and <code>n_s</code> denoting the boosting rounds used to learn ERA5 (before freezing) and satellite precipitation (after freezing), where the ERA5 simulations and DPR retrievals are shown for visual comparisons.\n",
        "  </em>\n",
        "</div>"
      ],
      "metadata": {
        "id": "oqzzRTtivuPA"
      },
      "id": "oqzzRTtivuPA"
    },
    {
      "cell_type": "markdown",
      "source": [
        "<div align=\"center\">\n",
        "  <img src=\"https://github.com/Buddha-subedi/Microwave_Precipitation_Retrievals_from_B-RAINS/blob/main/images/Fig_04.png?raw=1\" alt=\"Confusion Metrics\" width=\"800\"/><br/>\n",
        "  <em>\n",
        "    <strong>Figure 4.</strong> The confusion metrics of the B-RAINS detection step, stratified for the test dataset over different surface types.\n",
        "  </em>\n",
        "</div>"
      ],
      "metadata": {
        "id": "5938fy7dv8Fl"
      },
      "id": "5938fy7dv8Fl"
    },
    {
      "cell_type": "markdown",
      "source": [
        "<div align=\"center\">\n",
        "  <img src=\"https://i.postimg.cc/zGbVp28R/Fig-05.png)](https://postimg.cc/nXxFhksH\" alt=\"Scatter Plot\" width=\"800\"/><br/>\n",
        "  <em>\n",
        "    <strong>Figure 5.</strong> Density scatter plots for the rainfall (a) and snowfall (b) retrievals against the DPR and CPR test sets, with RMSE values (c) stratified by surface types after cumulative density matching. RMSE values are also shown for equal-sized combined test sets: DPR+ERA5 and CPR+ERA5 in the panel c.\n",
        "  </em>\n",
        "</div>"
      ],
      "metadata": {
        "id": "funfSOP3wCCT"
      },
      "id": "funfSOP3wCCT"
    },
    {
      "cell_type": "markdown",
      "source": [
        "## **2.1  Training B-RAINS**"
      ],
      "metadata": {
        "id": "f06M-FASwkEc"
      },
      "id": "f06M-FASwkEc"
    },
    {
      "cell_type": "markdown",
      "source": [
        "Training the base learner that first learns the ERA5 and then finetune based on CloudSat"
      ],
      "metadata": {
        "id": "9K0Iv60RSVKt"
      },
      "id": "9K0Iv60RSVKt"
    },
    {
      "cell_type": "code",
      "source": [
        "input_vars = ['10v', '10h', '18v', '18h','23v','36v', '36h', '89v', '89h', '166v', '166h','183-3', '183-7',\n",
        "              'tciw','tclw','tcwv','t2m','cape','u10', 'v10', 'skt','asn', 'rsn', 'cin',\n",
        "              'sd', 'tcslw','tcw','swvl1','lsm', 'siconc', 'Latitude','Longitude', 'Month', 'Day', 'mean_aspect', 'elevation_mean']\n",
        "\n",
        "# Train/test split\n",
        "x_train_era5 = df_era5_phase_train[input_vars]\n",
        "y_train_era5 = df_era5_phase_train['Prcp flag']\n",
        "\n",
        "x_test_era5 = df_era5_phase_test[input_vars]\n",
        "y_test_era5 = df_era5_phase_test['Prcp flag']\n",
        "\n",
        "# Create DMatrix for XGBoost\n",
        "dtrain_era5 = xgb.DMatrix(x_train_era5, label=y_train_era5)\n",
        "dtest_era5 = xgb.DMatrix(x_test_era5, label=y_test_era5)\n",
        "\n",
        "# Evaluation set\n",
        "evals = [(dtrain_era5, 'train'), (dtest_era5, 'test')]\n",
        "\n",
        "# Model parameters\n",
        "params = {\n",
        "    'objective': 'multi:softmax',\n",
        "    'num_class': 3,\n",
        "    'eval_metric': 'merror',\n",
        "    'reg_alpha': 0.095,\n",
        "    'reg_lambda': 7.843,\n",
        "    'max_depth': 10,\n",
        "    'num_parallel_tree': 3,\n",
        "    'learning_rate': 0.330808,\n",
        "    'gamma': 0.661776,\n",
        "    'verbosity': 0\n",
        "}\n",
        "\n",
        "# Train the model\n",
        "booster_era5 = xgb.train(\n",
        "    params=params,\n",
        "    dtrain=dtrain_era5,\n",
        "    evals=evals,\n",
        "    num_boost_round=30,\n",
        "    verbose_eval=True\n",
        ")\n",
        "\n",
        "# Predict\n",
        "y_pred_era5 = booster_era5.predict(dtest_era5)\n",
        "\n",
        "# Plot confusion matrix\n",
        "plot_confusion_matrix(y_test_era5, y_pred_era5, 'Predicted', 'Actual', 'ERA5 Test Set')"
      ],
      "metadata": {
        "id": "1SxqXu_WwiJP",
        "outputId": "8e0ff307-6964-4f1c-c1cb-e065da26b2dc",
        "colab": {
          "base_uri": "https://localhost:8080/",
          "height": 935
        }
      },
      "id": "1SxqXu_WwiJP",
      "execution_count": 36,
      "outputs": [
        {
          "output_type": "stream",
          "name": "stdout",
          "text": [
            "[0]\ttrain-merror:0.13079\ttest-merror:0.16793\n",
            "[1]\ttrain-merror:0.12409\ttest-merror:0.16314\n",
            "[2]\ttrain-merror:0.11918\ttest-merror:0.16043\n",
            "[3]\ttrain-merror:0.11516\ttest-merror:0.16079\n",
            "[4]\ttrain-merror:0.11077\ttest-merror:0.15914\n",
            "[5]\ttrain-merror:0.10891\ttest-merror:0.15807\n",
            "[6]\ttrain-merror:0.10564\ttest-merror:0.15629\n",
            "[7]\ttrain-merror:0.10371\ttest-merror:0.15664\n",
            "[8]\ttrain-merror:0.10100\ttest-merror:0.15586\n",
            "[9]\ttrain-merror:0.09907\ttest-merror:0.15657\n",
            "[10]\ttrain-merror:0.09713\ttest-merror:0.15679\n",
            "[11]\ttrain-merror:0.09498\ttest-merror:0.15550\n",
            "[12]\ttrain-merror:0.09245\ttest-merror:0.15450\n",
            "[13]\ttrain-merror:0.09127\ttest-merror:0.15500\n",
            "[14]\ttrain-merror:0.08986\ttest-merror:0.15400\n",
            "[15]\ttrain-merror:0.08814\ttest-merror:0.15407\n",
            "[16]\ttrain-merror:0.08680\ttest-merror:0.15286\n",
            "[17]\ttrain-merror:0.08496\ttest-merror:0.15264\n",
            "[18]\ttrain-merror:0.08148\ttest-merror:0.15307\n",
            "[19]\ttrain-merror:0.07993\ttest-merror:0.15371\n",
            "[20]\ttrain-merror:0.07745\ttest-merror:0.15286\n",
            "[21]\ttrain-merror:0.07520\ttest-merror:0.15193\n",
            "[22]\ttrain-merror:0.07343\ttest-merror:0.15114\n",
            "[23]\ttrain-merror:0.07273\ttest-merror:0.15136\n",
            "[24]\ttrain-merror:0.07064\ttest-merror:0.15121\n",
            "[25]\ttrain-merror:0.06939\ttest-merror:0.15129\n",
            "[26]\ttrain-merror:0.06805\ttest-merror:0.15100\n",
            "[27]\ttrain-merror:0.06689\ttest-merror:0.15114\n",
            "[28]\ttrain-merror:0.06577\ttest-merror:0.15136\n",
            "[29]\ttrain-merror:0.06450\ttest-merror:0.15150\n"
          ]
        },
        {
          "output_type": "display_data",
          "data": {
            "text/plain": [
              "<Figure size 400x400 with 1 Axes>"
            ],
            "image/png": "[encoded data removed]"
          },
          "metadata": {}
        }
      ]
    },
    {
      "cell_type": "markdown",
      "source": [
        "In second round of training, architecture of trees trained on the ERA5 will be frozen -- that is, their structure, including the number of trees, depth, nodes, and splitting criteria, is fixed. Additional bottom boosters are then appended and trained on satellite-based observations to capture the finer-scale information embedded in active retrievals."
      ],
      "metadata": {
        "id": "BAAU9akS1idi"
      },
      "id": "BAAU9akS1idi"
    },
    {
      "cell_type": "code",
      "source": [
        "x_train_cpr = df_cpr_phase_train[input_vars]\n",
        "y_train_cpr = df_cpr_phase_train['Prcp flag']\n",
        "\n",
        "x_test_cpr = df_cpr_phase_test[input_vars]\n",
        "y_test_cpr = df_cpr_phase_test['Prcp flag']\n",
        "\n",
        "# Class weights\n",
        "classes = np.unique(y_train_cpr)\n",
        "class_weights = {0: 1, 1: 1.167, 2: 1.766}\n",
        "\n",
        "# Sample weights\n",
        "sample_weights_cpr = y_train_cpr.map(lambda x: class_weights[classes.tolist().index(x)])\n",
        "\n",
        "# DMatrix creation\n",
        "dtrain_cpr = xgb.DMatrix(x_train_cpr, label=y_train_cpr, weight=sample_weights_cpr)\n",
        "dtest_cpr = xgb.DMatrix(x_test_cpr, label=y_test_cpr)\n",
        "\n",
        "\n",
        "# Eval sets\n",
        "evals = [(dtrain_cpr, 'train_cpr'), (dtest_cpr, 'test_cpr'), (dtest_era5, 'era5')]\n",
        "\n",
        "# Tracking F1 scores\n",
        "f1_train_cpr_rain_values, f1_test_cpr_rain_values, f1_era5_rain_values = [], [], []\n",
        "f1_train_cpr_snow_values, f1_test_cpr_snow_values, f1_era5_snow_values = [], [], []\n",
        "\n",
        "# F1 evaluator function\n",
        "def f1_eval_all_classes(preds, dtrain):\n",
        "    labels = dtrain.get_label()\n",
        "    preds = preds.argmax(axis=1)\n",
        "    f1_scores = f1_score(labels, preds, labels=[1, 2], average=None)\n",
        "    f1_rain, f1_snow = f1_scores[0], f1_scores[1]\n",
        "\n",
        "    if dtrain == dtrain_cpr:\n",
        "        f1_train_cpr_rain_values.append(f1_rain)\n",
        "        f1_train_cpr_snow_values.append(f1_snow)\n",
        "    elif dtrain == dtest_cpr:\n",
        "        f1_test_cpr_rain_values.append(f1_rain)\n",
        "        f1_test_cpr_snow_values.append(f1_snow)\n",
        "    elif dtrain == dtest_era5:\n",
        "        f1_era5_rain_values.append(f1_rain)\n",
        "        f1_era5_snow_values.append(f1_snow)\n",
        "\n",
        "    return 'f1_snow', f1_snow\n",
        "\n",
        "# Set model parameters\n",
        "params = {\n",
        "    'objective': 'multi:softprob',\n",
        "    'num_class': 3,\n",
        "    'eval_metric': 'merror',\n",
        "    'subsample': 0.5,\n",
        "    'reg_alpha': 6.948,\n",
        "    'reg_lambda': 5.0278,\n",
        "    'max_depth': 15,\n",
        "    'num_parallel_tree': 6,\n",
        "    'learning_rate': 0.018,\n",
        "    'gamma': 0.32,\n",
        "    'verbosity': 0\n",
        "}\n",
        "\n",
        "# Fine-tune model with CPR data (warm-start from booster_era5)\n",
        "booster_cpr = xgb.train(\n",
        "    params,\n",
        "    dtrain_cpr,\n",
        "    num_boost_round=80,\n",
        "    evals=evals,\n",
        "    xgb_model=booster_era5,  # warm-start from previously trained model\n",
        "    verbose_eval=True,\n",
        "    feval=f1_eval_all_classes\n",
        ")\n",
        "\n",
        "# Predict on test set\n",
        "y_pred_cpr_finetune_proba = booster_cpr.predict(dtest_cpr)\n",
        "y_pred_cpr_finetune_label = y_pred_cpr_finetune_proba.argmax(axis=1)\n",
        "# Evaluate final accuracy\n",
        "accuracy = accuracy_score(y_test_cpr, y_pred_cpr_finetune_label)\n",
        "print(f\"Test accuracy: {accuracy:.2f}\")"
      ],
      "metadata": {
        "id": "skTIt2Jj1jiR",
        "outputId": "040c3cab-95b4-4842-e3a0-c09a55b6e90e",
        "colab": {
          "base_uri": "https://localhost:8080/"
        }
      },
      "id": "skTIt2Jj1jiR",
      "execution_count": 37,
      "outputs": [
        {
          "output_type": "stream",
          "name": "stderr",
          "text": [
            "/usr/local/lib/python3.11/dist-packages/xgboost/training.py:38: UserWarning: `feval` is deprecated, use `custom_metric` instead.  They have different behavior when custom objective is also used.See https://xgboost.readthedocs.io/en/latest/tutorials/custom_metric_obj.html for details on the `custom_metric`.\n",
            "  warnings.warn(\n"
          ]
        },
        {
          "output_type": "stream",
          "name": "stdout",
          "text": [
            "[0]\ttrain_cpr-merror:0.21910\ttrain_cpr-f1_snow:0.81332\ttest_cpr-merror:0.25021\ttest_cpr-f1_snow:0.81019\tera5-merror:0.15214\tera5-f1_snow:0.86850\n",
            "[1]\ttrain_cpr-merror:0.21745\ttrain_cpr-f1_snow:0.81518\ttest_cpr-merror:0.24917\ttest_cpr-f1_snow:0.81146\tera5-merror:0.15271\tera5-f1_snow:0.86774\n",
            "[2]\ttrain_cpr-merror:0.21625\ttrain_cpr-f1_snow:0.81557\ttest_cpr-merror:0.24689\ttest_cpr-f1_snow:0.81198\tera5-merror:0.15257\tera5-f1_snow:0.86782\n",
            "[3]\ttrain_cpr-merror:0.21485\ttrain_cpr-f1_snow:0.81603\ttest_cpr-merror:0.24522\ttest_cpr-f1_snow:0.81198\tera5-merror:0.15321\tera5-f1_snow:0.86665\n",
            "[4]\ttrain_cpr-merror:0.21402\ttrain_cpr-f1_snow:0.81635\ttest_cpr-merror:0.24377\ttest_cpr-f1_snow:0.81250\tera5-merror:0.15314\tera5-f1_snow:0.86652\n",
            "[5]\ttrain_cpr-merror:0.21291\ttrain_cpr-f1_snow:0.81674\ttest_cpr-merror:0.24377\ttest_cpr-f1_snow:0.81250\tera5-merror:0.15293\tera5-f1_snow:0.86577\n",
            "[6]\ttrain_cpr-merror:0.21115\ttrain_cpr-f1_snow:0.81764\ttest_cpr-merror:0.24190\ttest_cpr-f1_snow:0.81250\tera5-merror:0.15300\tera5-f1_snow:0.86536\n",
            "[7]\ttrain_cpr-merror:0.20969\ttrain_cpr-f1_snow:0.81758\ttest_cpr-merror:0.24149\ttest_cpr-f1_snow:0.81250\tera5-merror:0.15279\tera5-f1_snow:0.86585\n",
            "[8]\ttrain_cpr-merror:0.20873\ttrain_cpr-f1_snow:0.81766\ttest_cpr-merror:0.24003\ttest_cpr-f1_snow:0.81354\tera5-merror:0.15393\tera5-f1_snow:0.86578\n",
            "[9]\ttrain_cpr-merror:0.20755\ttrain_cpr-f1_snow:0.81818\ttest_cpr-merror:0.23920\ttest_cpr-f1_snow:0.81354\tera5-merror:0.15529\tera5-f1_snow:0.86580\n",
            "[10]\ttrain_cpr-merror:0.20630\ttrain_cpr-f1_snow:0.81871\ttest_cpr-merror:0.23796\ttest_cpr-f1_snow:0.81302\tera5-merror:0.15457\tera5-f1_snow:0.86701\n",
            "[11]\ttrain_cpr-merror:0.20531\ttrain_cpr-f1_snow:0.81929\ttest_cpr-merror:0.23671\ttest_cpr-f1_snow:0.81302\tera5-merror:0.15514\tera5-f1_snow:0.86731\n",
            "[12]\ttrain_cpr-merror:0.20428\ttrain_cpr-f1_snow:0.81916\ttest_cpr-merror:0.23609\ttest_cpr-f1_snow:0.81302\tera5-merror:0.15579\tera5-f1_snow:0.86662\n",
            "[13]\ttrain_cpr-merror:0.20296\ttrain_cpr-f1_snow:0.81929\ttest_cpr-merror:0.23547\ttest_cpr-f1_snow:0.81354\tera5-merror:0.15500\tera5-f1_snow:0.86683\n",
            "[14]\ttrain_cpr-merror:0.20139\ttrain_cpr-f1_snow:0.81967\ttest_cpr-merror:0.23401\ttest_cpr-f1_snow:0.81406\tera5-merror:0.15543\tera5-f1_snow:0.86733\n",
            "[15]\ttrain_cpr-merror:0.20027\ttrain_cpr-f1_snow:0.81967\ttest_cpr-merror:0.23339\ttest_cpr-f1_snow:0.81406\tera5-merror:0.15586\tera5-f1_snow:0.86733\n",
            "[16]\ttrain_cpr-merror:0.19873\ttrain_cpr-f1_snow:0.82058\ttest_cpr-merror:0.23214\ttest_cpr-f1_snow:0.81406\tera5-merror:0.15671\tera5-f1_snow:0.86748\n",
            "[17]\ttrain_cpr-merror:0.19757\ttrain_cpr-f1_snow:0.82077\ttest_cpr-merror:0.23069\ttest_cpr-f1_snow:0.81481\tera5-merror:0.15764\tera5-f1_snow:0.86734\n",
            "[18]\ttrain_cpr-merror:0.19618\ttrain_cpr-f1_snow:0.82109\ttest_cpr-merror:0.22924\ttest_cpr-f1_snow:0.81481\tera5-merror:0.15814\tera5-f1_snow:0.86700\n",
            "[19]\ttrain_cpr-merror:0.19465\ttrain_cpr-f1_snow:0.82149\ttest_cpr-merror:0.22861\ttest_cpr-f1_snow:0.81429\tera5-merror:0.15921\tera5-f1_snow:0.86581\n",
            "[20]\ttrain_cpr-merror:0.19285\ttrain_cpr-f1_snow:0.82251\ttest_cpr-merror:0.22737\ttest_cpr-f1_snow:0.81429\tera5-merror:0.16000\tera5-f1_snow:0.86602\n",
            "[21]\ttrain_cpr-merror:0.19109\ttrain_cpr-f1_snow:0.82342\ttest_cpr-merror:0.22674\ttest_cpr-f1_snow:0.81481\tera5-merror:0.16064\tera5-f1_snow:0.86517\n",
            "[22]\ttrain_cpr-merror:0.19022\ttrain_cpr-f1_snow:0.82400\ttest_cpr-merror:0.22612\ttest_cpr-f1_snow:0.81481\tera5-merror:0.16193\tera5-f1_snow:0.86433\n",
            "[23]\ttrain_cpr-merror:0.18912\ttrain_cpr-f1_snow:0.82472\ttest_cpr-merror:0.22425\ttest_cpr-f1_snow:0.81586\tera5-merror:0.16393\tera5-f1_snow:0.86355\n",
            "[24]\ttrain_cpr-merror:0.18785\ttrain_cpr-f1_snow:0.82539\ttest_cpr-merror:0.22342\ttest_cpr-f1_snow:0.81586\tera5-merror:0.16479\tera5-f1_snow:0.86369\n",
            "[25]\ttrain_cpr-merror:0.18689\ttrain_cpr-f1_snow:0.82571\ttest_cpr-merror:0.22259\ttest_cpr-f1_snow:0.81586\tera5-merror:0.16557\tera5-f1_snow:0.86284\n",
            "[26]\ttrain_cpr-merror:0.18578\ttrain_cpr-f1_snow:0.82590\ttest_cpr-merror:0.22238\ttest_cpr-f1_snow:0.81562\tera5-merror:0.16600\tera5-f1_snow:0.86299\n",
            "[27]\ttrain_cpr-merror:0.18495\ttrain_cpr-f1_snow:0.82609\ttest_cpr-merror:0.22176\ttest_cpr-f1_snow:0.81638\tera5-merror:0.16693\tera5-f1_snow:0.86221\n",
            "[28]\ttrain_cpr-merror:0.18324\ttrain_cpr-f1_snow:0.82643\ttest_cpr-merror:0.22135\ttest_cpr-f1_snow:0.81638\tera5-merror:0.16793\tera5-f1_snow:0.86192\n",
            "[29]\ttrain_cpr-merror:0.18232\ttrain_cpr-f1_snow:0.82656\ttest_cpr-merror:0.22010\ttest_cpr-f1_snow:0.81690\tera5-merror:0.16907\tera5-f1_snow:0.86164\n",
            "[30]\ttrain_cpr-merror:0.18150\ttrain_cpr-f1_snow:0.82723\ttest_cpr-merror:0.21719\ttest_cpr-f1_snow:0.81690\tera5-merror:0.16971\tera5-f1_snow:0.86200\n",
            "[31]\ttrain_cpr-merror:0.17989\ttrain_cpr-f1_snow:0.82782\ttest_cpr-merror:0.21615\ttest_cpr-f1_snow:0.81638\tera5-merror:0.17164\tera5-f1_snow:0.86143\n",
            "[32]\ttrain_cpr-merror:0.17851\ttrain_cpr-f1_snow:0.82809\ttest_cpr-merror:0.21512\ttest_cpr-f1_snow:0.81690\tera5-merror:0.17307\tera5-f1_snow:0.86186\n",
            "[33]\ttrain_cpr-merror:0.17638\ttrain_cpr-f1_snow:0.82892\ttest_cpr-merror:0.21429\ttest_cpr-f1_snow:0.81614\tera5-merror:0.17407\tera5-f1_snow:0.86186\n",
            "[34]\ttrain_cpr-merror:0.17508\ttrain_cpr-f1_snow:0.82951\ttest_cpr-merror:0.21366\ttest_cpr-f1_snow:0.81614\tera5-merror:0.17514\tera5-f1_snow:0.86094\n",
            "[35]\ttrain_cpr-merror:0.17395\ttrain_cpr-f1_snow:0.83037\ttest_cpr-merror:0.21242\ttest_cpr-f1_snow:0.81719\tera5-merror:0.17564\tera5-f1_snow:0.86108\n",
            "[36]\ttrain_cpr-merror:0.17302\ttrain_cpr-f1_snow:0.83051\ttest_cpr-merror:0.21200\ttest_cpr-f1_snow:0.81771\tera5-merror:0.17650\tera5-f1_snow:0.86152\n",
            "[37]\ttrain_cpr-merror:0.17209\ttrain_cpr-f1_snow:0.83064\ttest_cpr-merror:0.21096\ttest_cpr-f1_snow:0.81824\tera5-merror:0.17686\tera5-f1_snow:0.86116\n",
            "[38]\ttrain_cpr-merror:0.17099\ttrain_cpr-f1_snow:0.83131\ttest_cpr-merror:0.20951\ttest_cpr-f1_snow:0.81877\tera5-merror:0.17743\tera5-f1_snow:0.86009\n",
            "[39]\ttrain_cpr-merror:0.17002\ttrain_cpr-f1_snow:0.83153\ttest_cpr-merror:0.20889\ttest_cpr-f1_snow:0.81801\tera5-merror:0.17779\tera5-f1_snow:0.86024\n",
            "[40]\ttrain_cpr-merror:0.16859\ttrain_cpr-f1_snow:0.83223\ttest_cpr-merror:0.20743\ttest_cpr-f1_snow:0.81801\tera5-merror:0.17914\tera5-f1_snow:0.86003\n",
            "[41]\ttrain_cpr-merror:0.16776\ttrain_cpr-f1_snow:0.83236\ttest_cpr-merror:0.20640\ttest_cpr-f1_snow:0.81801\tera5-merror:0.18029\tera5-f1_snow:0.85967\n",
            "[42]\ttrain_cpr-merror:0.16728\ttrain_cpr-f1_snow:0.83263\ttest_cpr-merror:0.20619\ttest_cpr-f1_snow:0.81853\tera5-merror:0.18071\tera5-f1_snow:0.85938\n",
            "[43]\ttrain_cpr-merror:0.16612\ttrain_cpr-f1_snow:0.83315\ttest_cpr-merror:0.20453\ttest_cpr-f1_snow:0.81929\tera5-merror:0.18264\tera5-f1_snow:0.85851\n",
            "[44]\ttrain_cpr-merror:0.16529\ttrain_cpr-f1_snow:0.83328\ttest_cpr-merror:0.20390\ttest_cpr-f1_snow:0.81906\tera5-merror:0.18357\tera5-f1_snow:0.85859\n",
            "[45]\ttrain_cpr-merror:0.16355\ttrain_cpr-f1_snow:0.83428\ttest_cpr-merror:0.20307\ttest_cpr-f1_snow:0.81906\tera5-merror:0.18471\tera5-f1_snow:0.85786\n",
            "[46]\ttrain_cpr-merror:0.16264\ttrain_cpr-f1_snow:0.83468\ttest_cpr-merror:0.20183\ttest_cpr-f1_snow:0.81959\tera5-merror:0.18586\tera5-f1_snow:0.85729\n",
            "[47]\ttrain_cpr-merror:0.16138\ttrain_cpr-f1_snow:0.83582\ttest_cpr-merror:0.20100\ttest_cpr-f1_snow:0.81959\tera5-merror:0.18700\tera5-f1_snow:0.85671\n",
            "[48]\ttrain_cpr-merror:0.16059\ttrain_cpr-f1_snow:0.83582\ttest_cpr-merror:0.19996\ttest_cpr-f1_snow:0.81959\tera5-merror:0.18764\tera5-f1_snow:0.85606\n",
            "[49]\ttrain_cpr-merror:0.15998\ttrain_cpr-f1_snow:0.83590\ttest_cpr-merror:0.19850\ttest_cpr-f1_snow:0.82012\tera5-merror:0.18836\tera5-f1_snow:0.85569\n",
            "[50]\ttrain_cpr-merror:0.15870\ttrain_cpr-f1_snow:0.83636\ttest_cpr-merror:0.19705\ttest_cpr-f1_snow:0.82064\tera5-merror:0.18921\tera5-f1_snow:0.85562\n",
            "[51]\ttrain_cpr-merror:0.15748\ttrain_cpr-f1_snow:0.83664\ttest_cpr-merror:0.19581\ttest_cpr-f1_snow:0.82117\tera5-merror:0.19064\tera5-f1_snow:0.85504\n",
            "[52]\ttrain_cpr-merror:0.15652\ttrain_cpr-f1_snow:0.83718\ttest_cpr-merror:0.19560\ttest_cpr-f1_snow:0.82041\tera5-merror:0.19207\tera5-f1_snow:0.85446\n",
            "[53]\ttrain_cpr-merror:0.15593\ttrain_cpr-f1_snow:0.83718\ttest_cpr-merror:0.19477\ttest_cpr-f1_snow:0.81988\tera5-merror:0.19307\tera5-f1_snow:0.85329\n",
            "[54]\ttrain_cpr-merror:0.15486\ttrain_cpr-f1_snow:0.83764\ttest_cpr-merror:0.19352\ttest_cpr-f1_snow:0.82064\tera5-merror:0.19371\tera5-f1_snow:0.85351\n",
            "[55]\ttrain_cpr-merror:0.15386\ttrain_cpr-f1_snow:0.83764\ttest_cpr-merror:0.19186\ttest_cpr-f1_snow:0.82117\tera5-merror:0.19436\tera5-f1_snow:0.85351\n",
            "[56]\ttrain_cpr-merror:0.15303\ttrain_cpr-f1_snow:0.83786\ttest_cpr-merror:0.19082\ttest_cpr-f1_snow:0.82224\tera5-merror:0.19514\tera5-f1_snow:0.85314\n",
            "[57]\ttrain_cpr-merror:0.15174\ttrain_cpr-f1_snow:0.83878\ttest_cpr-merror:0.18916\ttest_cpr-f1_snow:0.82330\tera5-merror:0.19564\tera5-f1_snow:0.85299\n",
            "[58]\ttrain_cpr-merror:0.15085\ttrain_cpr-f1_snow:0.83971\ttest_cpr-merror:0.18792\ttest_cpr-f1_snow:0.82383\tera5-merror:0.19629\tera5-f1_snow:0.85314\n",
            "[59]\ttrain_cpr-merror:0.14993\ttrain_cpr-f1_snow:0.84031\ttest_cpr-merror:0.18708\ttest_cpr-f1_snow:0.82383\tera5-merror:0.19736\tera5-f1_snow:0.85269\n",
            "[60]\ttrain_cpr-merror:0.14898\ttrain_cpr-f1_snow:0.84072\ttest_cpr-merror:0.18605\ttest_cpr-f1_snow:0.82437\tera5-merror:0.19793\tera5-f1_snow:0.85291\n",
            "[61]\ttrain_cpr-merror:0.14826\ttrain_cpr-f1_snow:0.84123\ttest_cpr-merror:0.18501\ttest_cpr-f1_snow:0.82490\tera5-merror:0.19921\tera5-f1_snow:0.85211\n",
            "[62]\ttrain_cpr-merror:0.14683\ttrain_cpr-f1_snow:0.84169\ttest_cpr-merror:0.18397\ttest_cpr-f1_snow:0.82597\tera5-merror:0.20014\tera5-f1_snow:0.85298\n",
            "[63]\ttrain_cpr-merror:0.14604\ttrain_cpr-f1_snow:0.84210\ttest_cpr-merror:0.18231\ttest_cpr-f1_snow:0.82597\tera5-merror:0.20071\tera5-f1_snow:0.85217\n",
            "[64]\ttrain_cpr-merror:0.14496\ttrain_cpr-f1_snow:0.84289\ttest_cpr-merror:0.18169\ttest_cpr-f1_snow:0.82597\tera5-merror:0.20229\tera5-f1_snow:0.85217\n",
            "[65]\ttrain_cpr-merror:0.14457\ttrain_cpr-f1_snow:0.84322\ttest_cpr-merror:0.17982\ttest_cpr-f1_snow:0.82674\tera5-merror:0.20343\tera5-f1_snow:0.85129\n",
            "[66]\ttrain_cpr-merror:0.14461\ttrain_cpr-f1_snow:0.84322\ttest_cpr-merror:0.17961\ttest_cpr-f1_snow:0.82750\tera5-merror:0.20457\tera5-f1_snow:0.85033\n",
            "[67]\ttrain_cpr-merror:0.14345\ttrain_cpr-f1_snow:0.84349\ttest_cpr-merror:0.17899\ttest_cpr-f1_snow:0.82803\tera5-merror:0.20550\tera5-f1_snow:0.84996\n",
            "[68]\ttrain_cpr-merror:0.14274\ttrain_cpr-f1_snow:0.84336\ttest_cpr-merror:0.17899\ttest_cpr-f1_snow:0.82803\tera5-merror:0.20571\tera5-f1_snow:0.84989\n",
            "[69]\ttrain_cpr-merror:0.14196\ttrain_cpr-f1_snow:0.84349\ttest_cpr-merror:0.17795\ttest_cpr-f1_snow:0.82857\tera5-merror:0.20643\tera5-f1_snow:0.84900\n",
            "[70]\ttrain_cpr-merror:0.14158\ttrain_cpr-f1_snow:0.84396\ttest_cpr-merror:0.17733\ttest_cpr-f1_snow:0.82803\tera5-merror:0.20707\tera5-f1_snow:0.84870\n",
            "[71]\ttrain_cpr-merror:0.14145\ttrain_cpr-f1_snow:0.84396\ttest_cpr-merror:0.17650\ttest_cpr-f1_snow:0.82803\tera5-merror:0.20843\tera5-f1_snow:0.84862\n",
            "[72]\ttrain_cpr-merror:0.14065\ttrain_cpr-f1_snow:0.84391\ttest_cpr-merror:0.17608\ttest_cpr-f1_snow:0.82750\tera5-merror:0.20929\tera5-f1_snow:0.84825\n",
            "[73]\ttrain_cpr-merror:0.14032\ttrain_cpr-f1_snow:0.84418\ttest_cpr-merror:0.17546\ttest_cpr-f1_snow:0.82696\tera5-merror:0.21071\tera5-f1_snow:0.84788\n",
            "[74]\ttrain_cpr-merror:0.13972\ttrain_cpr-f1_snow:0.84446\ttest_cpr-merror:0.17442\ttest_cpr-f1_snow:0.82772\tera5-merror:0.21186\tera5-f1_snow:0.84736\n",
            "[75]\ttrain_cpr-merror:0.13905\ttrain_cpr-f1_snow:0.84501\ttest_cpr-merror:0.17380\ttest_cpr-f1_snow:0.82826\tera5-merror:0.21250\tera5-f1_snow:0.84699\n",
            "[76]\ttrain_cpr-merror:0.13835\ttrain_cpr-f1_snow:0.84529\ttest_cpr-merror:0.17255\ttest_cpr-f1_snow:0.82955\tera5-merror:0.21393\tera5-f1_snow:0.84691\n",
            "[77]\ttrain_cpr-merror:0.13782\ttrain_cpr-f1_snow:0.84556\ttest_cpr-merror:0.17213\ttest_cpr-f1_snow:0.82955\tera5-merror:0.21400\tera5-f1_snow:0.84601\n",
            "[78]\ttrain_cpr-merror:0.13719\ttrain_cpr-f1_snow:0.84635\ttest_cpr-merror:0.17151\ttest_cpr-f1_snow:0.82955\tera5-merror:0.21543\tera5-f1_snow:0.84482\n",
            "[79]\ttrain_cpr-merror:0.13646\ttrain_cpr-f1_snow:0.84654\ttest_cpr-merror:0.17047\ttest_cpr-f1_snow:0.82955\tera5-merror:0.21614\tera5-f1_snow:0.84423\n",
            "Test accuracy: 0.83\n"
          ]
        }
      ]
    },
    {
      "cell_type": "code",
      "source": [
        "plt.figure(figsize=(4, 4))\n",
        "plt.plot(f1_test_cpr_snow_values, label='CPR', color='blue', linewidth=2, linestyle='--')\n",
        "plt.plot(f1_era5_snow_values, label='ERA5', color='green', linewidth=2, linestyle='--')\n",
        "\n",
        "plt.xlabel('Boosting Round', fontsize=10, fontweight='bold')\n",
        "plt.ylabel('F1 Score (Snow)', fontsize=10, fontweight='bold')\n",
        "plt.title('F1 Score vs. Boosting Rounds', fontsize=12, fontweight='bold')\n",
        "\n",
        "plt.legend(fontsize=10, frameon=False, loc='best', prop={'weight': 'bold'})\n",
        "\n",
        "plt.xticks(fontsize=10, fontweight='bold')\n",
        "plt.yticks(fontsize=10, fontweight='bold')\n",
        "plt.tick_params(axis='both', which='major', length=6, width=2)\n",
        "\n",
        "for spine in plt.gca().spines.values():\n",
        "    spine.set_linewidth(2)\n",
        "\n",
        "plt.grid(True, alpha=0.2)\n",
        "plt.tight_layout()\n",
        "plt.show()"
      ],
      "metadata": {
        "id": "TTiOTotI31DZ",
        "outputId": "2d439120-d12d-4026-b62f-4c2a946b5cde",
        "colab": {
          "base_uri": "https://localhost:8080/",
          "height": 407
        }
      },
      "id": "TTiOTotI31DZ",
      "execution_count": 38,
      "outputs": [
        {
          "output_type": "display_data",
          "data": {
            "text/plain": [
              "<Figure size 400x400 with 1 Axes>"
            ],
            "image/png": "[encoded data removed]"
          },
          "metadata": {}
        }
      ]
    },
    {
      "cell_type": "markdown",
      "source": [
        "Fine tune the model trained on ERA5 based on Learning from DPR"
      ],
      "metadata": {
        "id": "xP8Ez4gtSqCb"
      },
      "id": "xP8Ez4gtSqCb"
    },
    {
      "cell_type": "code",
      "source": [
        "# Prepare DPR data\n",
        "x_train_dpr = df_dpr_phase_train[input_vars]\n",
        "y_train_dpr = df_dpr_phase_train['Prcp flag']\n",
        "\n",
        "x_test_dpr = df_dpr_phase_test[input_vars]\n",
        "y_test_dpr = df_dpr_phase_test['Prcp flag']\n",
        "\n",
        "# Class weights\n",
        "classes = np.unique(y_train_dpr)\n",
        "class_weights = {0: 1, 1: 1.573, 2: 1}\n",
        "\n",
        "# Sample weights\n",
        "sample_weights_dpr = y_train_dpr.map(lambda x: class_weights[classes.tolist().index(x)])\n",
        "\n",
        "# DMatrix creation\n",
        "dtrain_dpr = xgb.DMatrix(x_train_dpr, label=y_train_dpr, weight=sample_weights_dpr)\n",
        "dtest_dpr = xgb.DMatrix(x_test_dpr, label=y_test_dpr)\n",
        "dtest_era5 = xgb.DMatrix(df_era5_phase_test[input_vars], label=df_era5_phase_test['Prcp flag'])\n",
        "\n",
        "# Eval sets\n",
        "evals = [(dtrain_dpr, 'train_dpr'), (dtest_dpr, 'test_dpr'), (dtest_era5, 'era5')]\n",
        "\n",
        "# Tracking F1 scores\n",
        "f1_train_dpr_rain_values, f1_test_dpr_rain_values, f1_era5_rain_values = [], [], []\n",
        "f1_train_dpr_snow_values, f1_test_dpr_snow_values, f1_era5_snow_values = [], [], []\n",
        "\n",
        "# F1 evaluator function\n",
        "def f1_eval_all_classes(preds, dtrain):\n",
        "    labels = dtrain.get_label()\n",
        "    preds = preds.argmax(axis=1)\n",
        "    f1_scores = f1_score(labels, preds, labels=[1, 2], average=None)\n",
        "    f1_rain, f1_snow = f1_scores[0], f1_scores[1]\n",
        "\n",
        "    if dtrain == dtrain_dpr:\n",
        "        f1_train_dpr_rain_values.append(f1_rain)\n",
        "        f1_train_dpr_snow_values.append(f1_snow)\n",
        "    elif dtrain == dtest_dpr:\n",
        "        f1_test_dpr_rain_values.append(f1_rain)\n",
        "        f1_test_dpr_snow_values.append(f1_snow)\n",
        "    elif dtrain == dtest_era5:\n",
        "        f1_era5_rain_values.append(f1_rain)\n",
        "        f1_era5_snow_values.append(f1_snow)\n",
        "\n",
        "    return 'f1_rain', f1_rain\n",
        "\n",
        "# Set model parameters\n",
        "params = {\n",
        "    'objective': 'multi:softprob',\n",
        "    'num_class': 3,\n",
        "    'eval_metric': 'merror',\n",
        "    'subsample': 0.5,\n",
        "    'reg_alpha': 6.948,\n",
        "    'reg_lambda': 5.0278,\n",
        "    'max_depth': 11,\n",
        "    'num_parallel_tree': 6,\n",
        "    'learning_rate': 0.01,\n",
        "    'gamma': 0.32,\n",
        "    'verbosity': 0\n",
        "}\n",
        "\n",
        "# Fine-tune model with DPR data (warm-start from booster_era5)\n",
        "booster_dpr = xgb.train(\n",
        "    params,\n",
        "    dtrain_dpr,\n",
        "    num_boost_round=50,\n",
        "    evals=evals,\n",
        "    xgb_model=booster_era5,  # warm-start from previously trained model\n",
        "    verbose_eval=True,\n",
        "    feval=f1_eval_all_classes\n",
        ")\n",
        "\n",
        "# Predict on test set\n",
        "y_pred_dpr_finetune_proba = booster_dpr.predict(dtest_dpr)\n",
        "y_pred_dpr_finetune_label = y_pred_dpr_finetune_proba.argmax(axis=1)\n",
        "# Evaluate final accuracy and F1 score for rain\n",
        "accuracy = accuracy_score(y_test_dpr, y_pred_dpr_finetune_label)\n",
        "f1_rain = f1_score(y_test_dpr, y_pred_dpr_finetune_label, labels=[1], average='macro')\n",
        "\n",
        "print(f\"Test accuracy: {accuracy:.2f}\")\n",
        "print(f\"F1 score (rain class): {f1_rain:.3f}\")"
      ],
      "metadata": {
        "id": "bRzgjSvtTRfA",
        "outputId": "8d3099cb-9a03-4c3a-c704-0cd5c3dc3f03",
        "colab": {
          "base_uri": "https://localhost:8080/"
        }
      },
      "id": "bRzgjSvtTRfA",
      "execution_count": 40,
      "outputs": [
        {
          "output_type": "stream",
          "name": "stderr",
          "text": [
            "/usr/local/lib/python3.11/dist-packages/xgboost/training.py:38: UserWarning: `feval` is deprecated, use `custom_metric` instead.  They have different behavior when custom objective is also used.See https://xgboost.readthedocs.io/en/latest/tutorials/custom_metric_obj.html for details on the `custom_metric`.\n",
            "  warnings.warn(\n"
          ]
        },
        {
          "output_type": "stream",
          "name": "stdout",
          "text": [
            "[0]\ttrain_dpr-merror:0.30763\ttrain_dpr-f1_rain:0.69186\ttest_dpr-merror:0.34482\ttest_dpr-f1_rain:0.69929\tera5-merror:0.15121\tera5-f1_rain:0.84021\n",
            "[1]\ttrain_dpr-merror:0.30654\ttrain_dpr-f1_rain:0.69269\ttest_dpr-merror:0.34348\ttest_dpr-f1_rain:0.70040\tera5-merror:0.15136\tera5-f1_rain:0.83991\n",
            "[2]\ttrain_dpr-merror:0.30545\ttrain_dpr-f1_rain:0.69355\ttest_dpr-merror:0.34196\ttest_dpr-f1_rain:0.70134\tera5-merror:0.15221\tera5-f1_rain:0.83880\n",
            "[3]\ttrain_dpr-merror:0.30418\ttrain_dpr-f1_rain:0.69465\ttest_dpr-merror:0.34116\ttest_dpr-f1_rain:0.70194\tera5-merror:0.15193\tera5-f1_rain:0.83876\n",
            "[4]\ttrain_dpr-merror:0.30287\ttrain_dpr-f1_rain:0.69569\ttest_dpr-merror:0.33973\ttest_dpr-f1_rain:0.70293\tera5-merror:0.15221\tera5-f1_rain:0.83806\n",
            "[5]\ttrain_dpr-merror:0.30189\ttrain_dpr-f1_rain:0.69654\ttest_dpr-merror:0.33902\ttest_dpr-f1_rain:0.70359\tera5-merror:0.15200\tera5-f1_rain:0.83817\n",
            "[6]\ttrain_dpr-merror:0.30079\ttrain_dpr-f1_rain:0.69751\ttest_dpr-merror:0.33750\ttest_dpr-f1_rain:0.70458\tera5-merror:0.15243\tera5-f1_rain:0.83726\n",
            "[7]\ttrain_dpr-merror:0.29924\ttrain_dpr-f1_rain:0.69881\ttest_dpr-merror:0.33563\ttest_dpr-f1_rain:0.70596\tera5-merror:0.15271\tera5-f1_rain:0.83652\n",
            "[8]\ttrain_dpr-merror:0.29802\ttrain_dpr-f1_rain:0.69987\ttest_dpr-merror:0.33437\ttest_dpr-f1_rain:0.70689\tera5-merror:0.15286\tera5-f1_rain:0.83647\n",
            "[9]\ttrain_dpr-merror:0.29689\ttrain_dpr-f1_rain:0.70078\ttest_dpr-merror:0.33348\ttest_dpr-f1_rain:0.70719\tera5-merror:0.15229\tera5-f1_rain:0.83677\n",
            "[10]\ttrain_dpr-merror:0.29557\ttrain_dpr-f1_rain:0.70199\ttest_dpr-merror:0.33179\ttest_dpr-f1_rain:0.70853\tera5-merror:0.15321\tera5-f1_rain:0.83585\n",
            "[11]\ttrain_dpr-merror:0.29431\ttrain_dpr-f1_rain:0.70290\ttest_dpr-merror:0.33036\ttest_dpr-f1_rain:0.70947\tera5-merror:0.15393\tera5-f1_rain:0.83501\n",
            "[12]\ttrain_dpr-merror:0.29298\ttrain_dpr-f1_rain:0.70410\ttest_dpr-merror:0.32884\ttest_dpr-f1_rain:0.71058\tera5-merror:0.15429\tera5-f1_rain:0.83391\n",
            "[13]\ttrain_dpr-merror:0.29168\ttrain_dpr-f1_rain:0.70514\ttest_dpr-merror:0.32705\ttest_dpr-f1_rain:0.71211\tera5-merror:0.15521\tera5-f1_rain:0.83172\n",
            "[14]\ttrain_dpr-merror:0.29022\ttrain_dpr-f1_rain:0.70637\ttest_dpr-merror:0.32554\ttest_dpr-f1_rain:0.71353\tera5-merror:0.15586\tera5-f1_rain:0.83056\n",
            "[15]\ttrain_dpr-merror:0.28877\ttrain_dpr-f1_rain:0.70758\ttest_dpr-merror:0.32366\ttest_dpr-f1_rain:0.71491\tera5-merror:0.15607\tera5-f1_rain:0.82976\n",
            "[16]\ttrain_dpr-merror:0.28748\ttrain_dpr-f1_rain:0.70864\ttest_dpr-merror:0.32250\ttest_dpr-f1_rain:0.71570\tera5-merror:0.15686\tera5-f1_rain:0.82797\n",
            "[17]\ttrain_dpr-merror:0.28657\ttrain_dpr-f1_rain:0.70939\ttest_dpr-merror:0.32080\ttest_dpr-f1_rain:0.71671\tera5-merror:0.15721\tera5-f1_rain:0.82753\n",
            "[18]\ttrain_dpr-merror:0.28537\ttrain_dpr-f1_rain:0.71034\ttest_dpr-merror:0.31884\ttest_dpr-f1_rain:0.71832\tera5-merror:0.15786\tera5-f1_rain:0.82657\n",
            "[19]\ttrain_dpr-merror:0.28421\ttrain_dpr-f1_rain:0.71141\ttest_dpr-merror:0.31750\ttest_dpr-f1_rain:0.71942\tera5-merror:0.15821\tera5-f1_rain:0.82556\n",
            "[20]\ttrain_dpr-merror:0.28285\ttrain_dpr-f1_rain:0.71263\ttest_dpr-merror:0.31625\ttest_dpr-f1_rain:0.72051\tera5-merror:0.15921\tera5-f1_rain:0.82431\n",
            "[21]\ttrain_dpr-merror:0.28145\ttrain_dpr-f1_rain:0.71386\ttest_dpr-merror:0.31455\ttest_dpr-f1_rain:0.72168\tera5-merror:0.16064\tera5-f1_rain:0.82223\n",
            "[22]\ttrain_dpr-merror:0.28002\ttrain_dpr-f1_rain:0.71498\ttest_dpr-merror:0.31286\ttest_dpr-f1_rain:0.72286\tera5-merror:0.16093\tera5-f1_rain:0.82107\n",
            "[23]\ttrain_dpr-merror:0.27840\ttrain_dpr-f1_rain:0.71637\ttest_dpr-merror:0.31161\ttest_dpr-f1_rain:0.72386\tera5-merror:0.16193\tera5-f1_rain:0.81964\n",
            "[24]\ttrain_dpr-merror:0.27713\ttrain_dpr-f1_rain:0.71739\ttest_dpr-merror:0.31036\ttest_dpr-f1_rain:0.72461\tera5-merror:0.16314\tera5-f1_rain:0.81826\n",
            "[25]\ttrain_dpr-merror:0.27565\ttrain_dpr-f1_rain:0.71849\ttest_dpr-merror:0.30911\ttest_dpr-f1_rain:0.72560\tera5-merror:0.16393\tera5-f1_rain:0.81695\n",
            "[26]\ttrain_dpr-merror:0.27377\ttrain_dpr-f1_rain:0.72003\ttest_dpr-merror:0.30723\ttest_dpr-f1_rain:0.72708\tera5-merror:0.16457\tera5-f1_rain:0.81626\n",
            "[27]\ttrain_dpr-merror:0.27234\ttrain_dpr-f1_rain:0.72135\ttest_dpr-merror:0.30491\ttest_dpr-f1_rain:0.72872\tera5-merror:0.16514\tera5-f1_rain:0.81515\n",
            "[28]\ttrain_dpr-merror:0.27085\ttrain_dpr-f1_rain:0.72265\ttest_dpr-merror:0.30357\ttest_dpr-f1_rain:0.72953\tera5-merror:0.16650\tera5-f1_rain:0.81307\n",
            "[29]\ttrain_dpr-merror:0.26969\ttrain_dpr-f1_rain:0.72369\ttest_dpr-merror:0.30196\ttest_dpr-f1_rain:0.73085\tera5-merror:0.16700\tera5-f1_rain:0.81174\n",
            "[30]\ttrain_dpr-merror:0.26862\ttrain_dpr-f1_rain:0.72450\ttest_dpr-merror:0.30045\ttest_dpr-f1_rain:0.73188\tera5-merror:0.16807\tera5-f1_rain:0.80961\n",
            "[31]\ttrain_dpr-merror:0.26719\ttrain_dpr-f1_rain:0.72585\ttest_dpr-merror:0.29866\ttest_dpr-f1_rain:0.73298\tera5-merror:0.17000\tera5-f1_rain:0.80678\n",
            "[32]\ttrain_dpr-merror:0.26570\ttrain_dpr-f1_rain:0.72715\ttest_dpr-merror:0.29741\ttest_dpr-f1_rain:0.73368\tera5-merror:0.17050\tera5-f1_rain:0.80568\n",
            "[33]\ttrain_dpr-merror:0.26414\ttrain_dpr-f1_rain:0.72837\ttest_dpr-merror:0.29563\ttest_dpr-f1_rain:0.73527\tera5-merror:0.17136\tera5-f1_rain:0.80427\n",
            "[34]\ttrain_dpr-merror:0.26257\ttrain_dpr-f1_rain:0.72977\ttest_dpr-merror:0.29473\ttest_dpr-f1_rain:0.73612\tera5-merror:0.17286\tera5-f1_rain:0.80260\n",
            "[35]\ttrain_dpr-merror:0.26117\ttrain_dpr-f1_rain:0.73107\ttest_dpr-merror:0.29295\ttest_dpr-f1_rain:0.73712\tera5-merror:0.17479\tera5-f1_rain:0.79961\n",
            "[36]\ttrain_dpr-merror:0.25977\ttrain_dpr-f1_rain:0.73229\ttest_dpr-merror:0.29152\ttest_dpr-f1_rain:0.73828\tera5-merror:0.17600\tera5-f1_rain:0.79743\n",
            "[37]\ttrain_dpr-merror:0.25848\ttrain_dpr-f1_rain:0.73334\ttest_dpr-merror:0.28920\ttest_dpr-f1_rain:0.73965\tera5-merror:0.17693\tera5-f1_rain:0.79568\n",
            "[38]\ttrain_dpr-merror:0.25701\ttrain_dpr-f1_rain:0.73480\ttest_dpr-merror:0.28732\ttest_dpr-f1_rain:0.74113\tera5-merror:0.17843\tera5-f1_rain:0.79299\n",
            "[39]\ttrain_dpr-merror:0.25539\ttrain_dpr-f1_rain:0.73628\ttest_dpr-merror:0.28571\ttest_dpr-f1_rain:0.74253\tera5-merror:0.17914\tera5-f1_rain:0.79143\n",
            "[40]\ttrain_dpr-merror:0.25381\ttrain_dpr-f1_rain:0.73776\ttest_dpr-merror:0.28429\ttest_dpr-f1_rain:0.74357\tera5-merror:0.18007\tera5-f1_rain:0.79058\n",
            "[41]\ttrain_dpr-merror:0.25222\ttrain_dpr-f1_rain:0.73911\ttest_dpr-merror:0.28277\ttest_dpr-f1_rain:0.74449\tera5-merror:0.18221\tera5-f1_rain:0.78735\n",
            "[42]\ttrain_dpr-merror:0.25086\ttrain_dpr-f1_rain:0.74024\ttest_dpr-merror:0.28089\ttest_dpr-f1_rain:0.74591\tera5-merror:0.18357\tera5-f1_rain:0.78546\n",
            "[43]\ttrain_dpr-merror:0.24934\ttrain_dpr-f1_rain:0.74168\ttest_dpr-merror:0.27893\ttest_dpr-f1_rain:0.74751\tera5-merror:0.18507\tera5-f1_rain:0.78289\n",
            "[44]\ttrain_dpr-merror:0.24792\ttrain_dpr-f1_rain:0.74284\ttest_dpr-merror:0.27759\ttest_dpr-f1_rain:0.74849\tera5-merror:0.18621\tera5-f1_rain:0.78044\n",
            "[45]\ttrain_dpr-merror:0.24666\ttrain_dpr-f1_rain:0.74401\ttest_dpr-merror:0.27661\ttest_dpr-f1_rain:0.74899\tera5-merror:0.18764\tera5-f1_rain:0.77800\n",
            "[46]\ttrain_dpr-merror:0.24511\ttrain_dpr-f1_rain:0.74537\ttest_dpr-merror:0.27536\ttest_dpr-f1_rain:0.74995\tera5-merror:0.18907\tera5-f1_rain:0.77535\n",
            "[47]\ttrain_dpr-merror:0.24355\ttrain_dpr-f1_rain:0.74670\ttest_dpr-merror:0.27330\ttest_dpr-f1_rain:0.75149\tera5-merror:0.18993\tera5-f1_rain:0.77393\n",
            "[48]\ttrain_dpr-merror:0.24176\ttrain_dpr-f1_rain:0.74832\ttest_dpr-merror:0.27089\ttest_dpr-f1_rain:0.75347\tera5-merror:0.19057\tera5-f1_rain:0.77306\n",
            "[49]\ttrain_dpr-merror:0.24035\ttrain_dpr-f1_rain:0.74964\ttest_dpr-merror:0.26902\ttest_dpr-f1_rain:0.75510\tera5-merror:0.19150\tera5-f1_rain:0.77111\n",
            "Test accuracy: 0.73\n",
            "F1 score (rain class): 0.755\n"
          ]
        }
      ]
    },
    {
      "cell_type": "code",
      "source": [
        "plt.figure(figsize=(4, 4))\n",
        "\n",
        "plt.plot(f1_test_dpr_rain_values, label='DPR', color='blue', linewidth=2, linestyle='--')\n",
        "plt.plot(f1_era5_rain_values, label='ERA5', color='green', linewidth=2, linestyle='--')\n",
        "\n",
        "plt.xlabel('Boosting Round', fontsize=10, fontweight='bold')\n",
        "plt.ylabel('F1 Score (Rain)', fontsize=10, fontweight='bold')\n",
        "plt.title('F1 Score vs. Boosting Rounds', fontsize=12, fontweight='bold')\n",
        "\n",
        "plt.legend(fontsize=10, frameon=False, loc='best', prop={'weight': 'bold'})\n",
        "plt.xticks(fontsize=10, fontweight='bold')\n",
        "plt.yticks(fontsize=10, fontweight='bold')\n",
        "plt.tick_params(axis='both', which='major', length=6, width=2)\n",
        "\n",
        "for spine in plt.gca().spines.values():\n",
        "    spine.set_linewidth(2)\n",
        "\n",
        "plt.grid(True, alpha=0.2)\n",
        "plt.tight_layout()\n",
        "plt.show()"
      ],
      "metadata": {
        "id": "SXe_DaUpXYHF",
        "outputId": "841dda7c-25cb-45a7-eed9-83292669d652",
        "colab": {
          "base_uri": "https://localhost:8080/",
          "height": 407
        }
      },
      "id": "SXe_DaUpXYHF",
      "execution_count": 41,
      "outputs": [
        {
          "output_type": "display_data",
          "data": {
            "text/plain": [
              "<Figure size 400x400 with 1 Axes>"
            ],
            "image/png": "[encoded data removed]"
          },
          "metadata": {}
        }
      ]
    },
    {
      "cell_type": "markdown",
      "source": [
        "Training the Meta- model to predicts the phase"
      ],
      "metadata": {
        "id": "tNNtDiWIWT9c"
      },
      "id": "tNNtDiWIWT9c"
    },
    {
      "cell_type": "code",
      "source": [
        "#### Satellite dataset for the meta-model\n",
        "snow_train_meta_cpr= df_cpr_phase_train[df_cpr_phase_train['Prcp flag']==2]\n",
        "snow_test_meta_cpr = df_cpr_phase_test[df_cpr_phase_test['Prcp flag']==2]\n",
        "\n",
        "df_train_sat_meta = shuffle(pd.concat([\n",
        "    df_cpr_phase_train[df_cpr_phase_train['Prcp flag'] == 2],\n",
        "    df_dpr_phase_train[df_dpr_phase_train['Prcp flag'] == 1].sample(n=int(2.5 * snow_train_meta_cpr.shape[0]), random_state=42),\n",
        "    df_cpr_phase_train[df_cpr_phase_train['Prcp flag'] == 0].sample(n=int(1.75 * snow_train_meta_cpr.shape[0]), random_state=42),\n",
        "    df_dpr_phase_train[df_dpr_phase_train['Prcp flag'] == 0].sample(n=int(1.75 * snow_train_meta_cpr.shape[0]), random_state=42)\n",
        "], ignore_index=True), random_state=42).reset_index(drop=True)\n",
        "\n",
        "df_test_sat_meta = shuffle(pd.concat([\n",
        "    df_cpr_phase_test[df_cpr_phase_test['Prcp flag'] == 2],\n",
        "    df_dpr_phase_test[df_dpr_phase_test['Prcp flag'] == 1].sample(n=int(2.5 * snow_test_meta_cpr.shape[0]), random_state=42),\n",
        "    df_cpr_phase_test[df_cpr_phase_test['Prcp flag'] == 0].sample(n=int(1.75 * snow_test_meta_cpr.shape[0]), random_state=42),\n",
        "    df_dpr_phase_test[df_dpr_phase_test['Prcp flag'] == 0].sample(n=int(1.75 * snow_test_meta_cpr.shape[0]), random_state=42)\n",
        "], ignore_index=True), random_state=42).reset_index(drop=True)\n",
        "\n",
        "\n",
        "#### ERA5 dataset for the meta-model\n",
        "clear_train_meta_era5 = df_era5_phase_train[df_era5_phase_train['Prcp flag']==0].sample(n=int(3.5 * snow_train_meta_cpr.shape[0]), random_state=42)\n",
        "clear_test_meta_era5= df_era5_phase_test[df_era5_phase_test['Prcp flag']==0].sample(n=int(3.5 * snow_test_meta_cpr.shape[0]), random_state=42)\n",
        "\n",
        "rain_train_meta_era5= df_era5_phase_train[df_era5_phase_train['Prcp flag']==1].sample(n=int(2.5 * snow_train_meta_cpr.shape[0]), random_state=42)\n",
        "rain_test_meta_era5= df_era5_phase_test[df_era5_phase_test['Prcp flag']==1].sample(n=int(2.5 * snow_test_meta_cpr.shape[0]), random_state=42)\n",
        "\n",
        "snow_train_meta_era5 = df_era5_phase_train[df_era5_phase_train['Prcp flag']==2].sample(n=snow_train_meta_cpr.shape[0], random_state=42)\n",
        "snow_test_meta_era5 = df_era5_phase_test[df_era5_phase_test['Prcp flag']==2].sample(n=snow_test_meta_cpr.shape[0], random_state=42)\n",
        "\n",
        "df_train_era5_meta = pd.concat([clear_train_meta_era5, rain_train_meta_era5, snow_train_meta_era5], ignore_index=True).sample(frac=1, random_state=42).reset_index(drop=True)\n",
        "df_test_era5_meta  = pd.concat([clear_test_meta_era5, rain_test_meta_era5, snow_test_meta_era5], ignore_index=True).sample(frac=1, random_state=42).reset_index(drop=True)\n",
        "\n",
        "#### Merging the ERA5 and satellite labels for meta-model\n",
        "# Stack vertically (row-wise) and shuffle\n",
        "df_train_meta = pd.concat([df_train_era5_meta, df_train_sat_meta], ignore_index=True).sample(frac=1, random_state=42).reset_index(drop=True)\n",
        "df_test_meta  = pd.concat([df_test_era5_meta, df_test_sat_meta], ignore_index=True).sample(frac=1, random_state=42).reset_index(drop=True)"
      ],
      "metadata": {
        "id": "va-0Y8SDZZdf"
      },
      "id": "va-0Y8SDZZdf",
      "execution_count": 42,
      "outputs": []
    },
    {
      "cell_type": "markdown",
      "source": [
        "Training the Meta-model"
      ],
      "metadata": {
        "id": "iaEmj56ykEix"
      },
      "id": "iaEmj56ykEix"
    },
    {
      "cell_type": "code",
      "source": [
        "x_train_get_data_for_meta = df_train_meta[input_vars]\n",
        "x_test_get_data_for_meta = df_test_meta[input_vars]\n",
        "\n",
        "dtrain = xgb.DMatrix(x_train_get_data_for_meta)\n",
        "dtest = xgb.DMatrix(x_test_get_data_for_meta)\n",
        "\n",
        "## Creating features based on DPR phase probabilities\n",
        "dpr_pred_proba_for_train = booster_dpr.predict(dtrain)\n",
        "dpr_pred_proba_for_test = booster_dpr.predict(dtest)\n",
        "\n",
        "df_train_meta['dpr_p0'], df_train_meta['dpr_p1'], df_train_meta['dpr_p2'] = \\\n",
        "    dpr_pred_proba_for_train[:, 0], dpr_pred_proba_for_train[:, 1], dpr_pred_proba_for_train[:, 2]\n",
        "\n",
        "df_test_meta['dpr_p0'], df_test_meta['dpr_p1'], df_test_meta['dpr_p2'] = \\\n",
        "    dpr_pred_proba_for_test[:, 0], dpr_pred_proba_for_test[:, 1], dpr_pred_proba_for_test[:, 2]\n",
        "\n",
        "## Creating features based on CPR phase probabilities\n",
        "cpr_pred_proba_for_train = booster_cpr.predict(dtrain)\n",
        "cpr_pred_proba_for_test = booster_cpr.predict(dtest)\n",
        "\n",
        "df_train_meta['cpr_p0'], df_train_meta['cpr_p1'], df_train_meta['cpr_p2'] = \\\n",
        "    cpr_pred_proba_for_train[:, 0], cpr_pred_proba_for_train[:, 1], cpr_pred_proba_for_train[:, 2]\n",
        "\n",
        "df_test_meta['cpr_p0'], df_test_meta['cpr_p1'], df_test_meta['cpr_p2'] = \\\n",
        "    cpr_pred_proba_for_test[:, 0], cpr_pred_proba_for_test[:, 1], cpr_pred_proba_for_test[:, 2]"
      ],
      "metadata": {
        "id": "AiIg-jugkktP"
      },
      "id": "AiIg-jugkktP",
      "execution_count": 45,
      "outputs": []
    },
    {
      "cell_type": "code",
      "source": [
        "new_input_vars = ['dpr_p0', 'dpr_p1', 'dpr_p2', 'cpr_p0', 'cpr_p1', 'cpr_p2']\n",
        "\n",
        "x_train_meta = df_train_meta[new_input_vars]\n",
        "y_train_meta = df_train_meta['Prcp flag']\n",
        "\n",
        "x_test_meta = df_test_meta[new_input_vars]\n",
        "y_test_meta = df_test_meta['Prcp flag']\n",
        "\n",
        "# Prepare the DMatrix for train and test data\n",
        "dtrain_meta = xgb.DMatrix(x_train_meta, label=y_train_meta)\n",
        "dtest_meta = xgb.DMatrix(x_test_meta, label=y_test_meta)\n",
        "\n",
        "# Define evaluation metrics, watchlist to monitor test metrics\n",
        "evals = [(dtrain_meta, 'train'), (dtest_meta, 'test')]\n",
        "\n",
        "params = {\n",
        "    'objective': 'multi:softprob',\n",
        "    'num_class': 3,\n",
        "    'eval_metric': ['mlogloss', 'merror'],\n",
        "    'subsample': 0.5,\n",
        "    'reg_alpha': 0.095,\n",
        "    'reg_lambda': 7.843,\n",
        "    'max_depth': 15,\n",
        "    'num_parallel_tree': 3,\n",
        "    'learning_rate': 0.330808,\n",
        "    'gamma': 0.661776,\n",
        "    'verbosity': 1\n",
        "}\n",
        "\n",
        "# Train the model (meta_model)\n",
        "meta_model = xgb.train(\n",
        "    params=params,\n",
        "    dtrain=dtrain_meta,\n",
        "    evals=evals,\n",
        "    num_boost_round=20,\n",
        "    verbose_eval=True\n",
        ")\n",
        "\n",
        "# Predict probabilities\n",
        "y_pred_proba = meta_model.predict(dtest_meta)\n",
        "\n",
        "# Convert probabilities to class labels\n",
        "y_pred = np.argmax(y_pred_proba, axis=1)\n",
        "\n",
        "# Plot confusion matrix\n",
        "plot_confusion_matrix(y_test_meta, y_pred, 'Predicted', 'Actual', 'Merged Test Set')"
      ],
      "metadata": {
        "id": "huRWUhxIvBrz",
        "outputId": "4cdd74dd-1536-45cb-9507-cebb13902cb4",
        "colab": {
          "base_uri": "https://localhost:8080/",
          "height": 761
        }
      },
      "id": "huRWUhxIvBrz",
      "execution_count": 47,
      "outputs": [
        {
          "output_type": "stream",
          "name": "stdout",
          "text": [
            "[0]\ttrain-mlogloss:0.79438\ttrain-merror:0.13252\ttest-mlogloss:0.82272\ttest-merror:0.19215\n",
            "[1]\ttrain-mlogloss:0.62762\ttrain-merror:0.13044\ttest-mlogloss:0.67617\ttest-merror:0.19062\n",
            "[2]\ttrain-mlogloss:0.52356\ttrain-merror:0.12820\ttest-mlogloss:0.58841\ttest-merror:0.19052\n",
            "[3]\ttrain-mlogloss:0.45469\ttrain-merror:0.12660\ttest-mlogloss:0.53297\ttest-merror:0.19113\n",
            "[4]\ttrain-mlogloss:0.40738\ttrain-merror:0.12558\ttest-mlogloss:0.49721\ttest-merror:0.19154\n",
            "[5]\ttrain-mlogloss:0.37384\ttrain-merror:0.12482\ttest-mlogloss:0.47393\ttest-merror:0.19011\n",
            "[6]\ttrain-mlogloss:0.34969\ttrain-merror:0.12398\ttest-mlogloss:0.45880\ttest-merror:0.19052\n",
            "[7]\ttrain-mlogloss:0.33139\ttrain-merror:0.12246\ttest-mlogloss:0.44891\ttest-merror:0.19072\n",
            "[8]\ttrain-mlogloss:0.31766\ttrain-merror:0.12076\ttest-mlogloss:0.44185\ttest-merror:0.19164\n",
            "[9]\ttrain-mlogloss:0.30702\ttrain-merror:0.11999\ttest-mlogloss:0.43668\ttest-merror:0.19103\n",
            "[10]\ttrain-mlogloss:0.29859\ttrain-merror:0.11933\ttest-mlogloss:0.43291\ttest-merror:0.19113\n",
            "[11]\ttrain-mlogloss:0.29185\ttrain-merror:0.11880\ttest-mlogloss:0.42998\ttest-merror:0.19113\n",
            "[12]\ttrain-mlogloss:0.28636\ttrain-merror:0.11799\ttest-mlogloss:0.42799\ttest-merror:0.19174\n",
            "[13]\ttrain-mlogloss:0.28133\ttrain-merror:0.11677\ttest-mlogloss:0.42708\ttest-merror:0.19143\n",
            "[14]\ttrain-mlogloss:0.27695\ttrain-merror:0.11588\ttest-mlogloss:0.42647\ttest-merror:0.19235\n",
            "[15]\ttrain-mlogloss:0.27324\ttrain-merror:0.11545\ttest-mlogloss:0.42550\ttest-merror:0.19092\n",
            "[16]\ttrain-mlogloss:0.27000\ttrain-merror:0.11511\ttest-mlogloss:0.42542\ttest-merror:0.19021\n",
            "[17]\ttrain-mlogloss:0.26669\ttrain-merror:0.11288\ttest-mlogloss:0.42527\ttest-merror:0.19133\n",
            "[18]\ttrain-mlogloss:0.26382\ttrain-merror:0.11176\ttest-mlogloss:0.42512\ttest-merror:0.19103\n",
            "[19]\ttrain-mlogloss:0.26103\ttrain-merror:0.11057\ttest-mlogloss:0.42541\ttest-merror:0.19123\n"
          ]
        },
        {
          "output_type": "display_data",
          "data": {
            "text/plain": [
              "<Figure size 400x400 with 1 Axes>"
            ],
            "image/png": "[encoded data removed]"
          },
          "metadata": {}
        }
      ]
    },
    {
      "cell_type": "markdown",
      "source": [
        "Training the base learner for the snow rate estimation by first learning the ERA5 and then fine tuning on CloudSat"
      ],
      "metadata": {
        "id": "drkliln8eUGk"
      },
      "id": "drkliln8eUGk"
    },
    {
      "cell_type": "code",
      "source": [
        "X_train_snow_era5 = df_era5_snow_rate_train[input_vars]\n",
        "y_train_snow_era5 = df_era5_snow_rate_train['snow_rate']\n",
        "\n",
        "X_test_snow_era5 = df_era5_snow_rate_test[input_vars]\n",
        "y_test_snow_era5 = df_era5_snow_rate_test['snow_rate']\n",
        "\n",
        "\n",
        "\n",
        "# Convert to DMatrix format\n",
        "dtrain_snow_era5 = xgb.DMatrix(X_train_snow_era5, label=y_train_snow_era5)\n",
        "dtest_snow_era5 = xgb.DMatrix(X_test_snow_era5, label=y_test_snow_era5)\n",
        "\n",
        "\n",
        "# Define evaluation metrics and watchlist\n",
        "evals = [(dtrain_snow_era5, 'train'), (dtest_snow_era5, 'test')]\n",
        "\n",
        "evals_result = {}\n",
        "\n",
        "# Define parameters for XGBoost\n",
        "params = {\n",
        "    'objective': 'reg:squarederror',\n",
        "    'seed': 42,\n",
        "    'learning_rate': 0.0392,\n",
        "    'max_depth': 14,\n",
        "    'reg_alpha': 4.52,\n",
        "    'reg_lambda': 7.139,\n",
        "    'n_estimators': 52,\n",
        "    'num_parallel_tree': 6,\n",
        "    'eval_metric': ['rmse']\n",
        "}\n",
        "\n",
        "# Train the model with early stopping\n",
        "xgb_reg_snow_era5 = xgb.train(params, dtrain_snow_era5, num_boost_round=52, evals=evals, evals_result=evals_result, early_stopping_rounds=5)"
      ],
      "metadata": {
        "id": "x1C5n_WSeh4S",
        "outputId": "d4ee36ef-ea94-49ad-9d8a-acb8e053625d",
        "colab": {
          "base_uri": "https://localhost:8080/"
        }
      },
      "id": "x1C5n_WSeh4S",
      "execution_count": 53,
      "outputs": [
        {
          "output_type": "stream",
          "name": "stderr",
          "text": [
            "/usr/local/lib/python3.11/dist-packages/xgboost/core.py:158: UserWarning: [16:41:03] WARNING: /workspace/src/learner.cc:740: \n",
            "Parameters: { \"n_estimators\" } are not used.\n",
            "\n",
            "  warnings.warn(smsg, UserWarning)\n"
          ]
        },
        {
          "output_type": "stream",
          "name": "stdout",
          "text": [
            "[0]\ttrain-rmse:0.20422\ttest-rmse:0.20202\n",
            "[1]\ttrain-rmse:0.19941\ttest-rmse:0.19753\n",
            "[2]\ttrain-rmse:0.19483\ttest-rmse:0.19331\n",
            "[3]\ttrain-rmse:0.19048\ttest-rmse:0.18929\n",
            "[4]\ttrain-rmse:0.18636\ttest-rmse:0.18532\n",
            "[5]\ttrain-rmse:0.18241\ttest-rmse:0.18157\n",
            "[6]\ttrain-rmse:0.17859\ttest-rmse:0.17794\n",
            "[7]\ttrain-rmse:0.17495\ttest-rmse:0.17466\n",
            "[8]\ttrain-rmse:0.17155\ttest-rmse:0.17149\n",
            "[9]\ttrain-rmse:0.16825\ttest-rmse:0.16837\n",
            "[10]\ttrain-rmse:0.16514\ttest-rmse:0.16550\n",
            "[11]\ttrain-rmse:0.16212\ttest-rmse:0.16258\n",
            "[12]\ttrain-rmse:0.15923\ttest-rmse:0.15982\n",
            "[13]\ttrain-rmse:0.15648\ttest-rmse:0.15729\n",
            "[14]\ttrain-rmse:0.15389\ttest-rmse:0.15482\n",
            "[15]\ttrain-rmse:0.15137\ttest-rmse:0.15254\n",
            "[16]\ttrain-rmse:0.14901\ttest-rmse:0.15045\n",
            "[17]\ttrain-rmse:0.14665\ttest-rmse:0.14838\n",
            "[18]\ttrain-rmse:0.14446\ttest-rmse:0.14643\n",
            "[19]\ttrain-rmse:0.14232\ttest-rmse:0.14455\n",
            "[20]\ttrain-rmse:0.14022\ttest-rmse:0.14287\n",
            "[21]\ttrain-rmse:0.13824\ttest-rmse:0.14116\n",
            "[22]\ttrain-rmse:0.13641\ttest-rmse:0.13952\n",
            "[23]\ttrain-rmse:0.13461\ttest-rmse:0.13810\n",
            "[24]\ttrain-rmse:0.13289\ttest-rmse:0.13667\n",
            "[25]\ttrain-rmse:0.13128\ttest-rmse:0.13529\n",
            "[26]\ttrain-rmse:0.12968\ttest-rmse:0.13406\n",
            "[27]\ttrain-rmse:0.12817\ttest-rmse:0.13283\n",
            "[28]\ttrain-rmse:0.12672\ttest-rmse:0.13181\n",
            "[29]\ttrain-rmse:0.12536\ttest-rmse:0.13083\n",
            "[30]\ttrain-rmse:0.12407\ttest-rmse:0.12980\n",
            "[31]\ttrain-rmse:0.12279\ttest-rmse:0.12875\n",
            "[32]\ttrain-rmse:0.12158\ttest-rmse:0.12791\n",
            "[33]\ttrain-rmse:0.12032\ttest-rmse:0.12707\n",
            "[34]\ttrain-rmse:0.11920\ttest-rmse:0.12633\n",
            "[35]\ttrain-rmse:0.11811\ttest-rmse:0.12568\n",
            "[36]\ttrain-rmse:0.11707\ttest-rmse:0.12499\n",
            "[37]\ttrain-rmse:0.11601\ttest-rmse:0.12434\n",
            "[38]\ttrain-rmse:0.11505\ttest-rmse:0.12382\n",
            "[39]\ttrain-rmse:0.11408\ttest-rmse:0.12333\n",
            "[40]\ttrain-rmse:0.11314\ttest-rmse:0.12282\n",
            "[41]\ttrain-rmse:0.11229\ttest-rmse:0.12234\n",
            "[42]\ttrain-rmse:0.11151\ttest-rmse:0.12191\n",
            "[43]\ttrain-rmse:0.11075\ttest-rmse:0.12162\n",
            "[44]\ttrain-rmse:0.11007\ttest-rmse:0.12121\n",
            "[45]\ttrain-rmse:0.10927\ttest-rmse:0.12082\n",
            "[46]\ttrain-rmse:0.10858\ttest-rmse:0.12053\n",
            "[47]\ttrain-rmse:0.10788\ttest-rmse:0.12019\n",
            "[48]\ttrain-rmse:0.10721\ttest-rmse:0.11994\n",
            "[49]\ttrain-rmse:0.10663\ttest-rmse:0.11963\n",
            "[50]\ttrain-rmse:0.10597\ttest-rmse:0.11937\n",
            "[51]\ttrain-rmse:0.10538\ttest-rmse:0.11912\n"
          ]
        }
      ]
    },
    {
      "cell_type": "markdown",
      "source": [
        "Fine tuning the model based on CPR snow rate"
      ],
      "metadata": {
        "id": "MK9cGgMjEh8B"
      },
      "id": "MK9cGgMjEh8B"
    },
    {
      "cell_type": "code",
      "source": [
        "X_train_snow_sat = df_cpr_snow_rate_train[input_vars]\n",
        "y_train_snow_sat = df_cpr_snow_rate_train['snow_rate']\n",
        "X_test_snow_sat = df_cpr_snow_rate_test[input_vars]\n",
        "y_test_snow_sat = df_cpr_snow_rate_test['snow_rate']\n",
        "\n",
        "dtrain_snow_rate_sat = xgb.DMatrix(X_train_snow_sat, label=y_train_snow_sat)\n",
        "dtest_snow_rate_sat = xgb.DMatrix(X_test_snow_sat, label=y_test_snow_sat)\n",
        "\n",
        "evals = [(dtest_snow_era5, 'test_era5'), (dtest_snow_rate_sat, 'test_sat'), (dtrain_snow_rate_sat, 'train_sat')]\n",
        "evals_result = {}\n",
        "\n",
        "# Set parameters for fine-tuning\n",
        "params = {\n",
        "    'objective': 'reg:squarederror',\n",
        "    'learning_rate': 0.014,\n",
        "    'eval_metric': 'rmse',\n",
        "    'max_depth': 15\n",
        "}\n",
        "\n",
        "# Continue training with the new data\n",
        "snow_rate_booster = xgb.train(\n",
        "    params,\n",
        "    dtrain_snow_rate_sat,\n",
        "    num_boost_round=104,\n",
        "    evals=evals,\n",
        "    xgb_model=xgb_reg_snow_era5,\n",
        "    evals_result=evals_result,\n",
        "    verbose_eval=True\n",
        ")\n",
        "\n",
        "\n",
        "y_pred_snow_rate_sat = snow_rate_booster.predict(dtest_snow_rate_sat)\n",
        "\n",
        "mse_new = mean_squared_error(y_test_snow_sat, y_pred_snow_rate_sat)\n",
        "print(f\"Test Mean Squared Error: {mse_new:.2f}\")"
      ],
      "metadata": {
        "id": "iAm89U2qEqbH",
        "outputId": "c3e4b01e-d778-4d82-817c-3f972d613365",
        "colab": {
          "base_uri": "https://localhost:8080/"
        }
      },
      "id": "iAm89U2qEqbH",
      "execution_count": 67,
      "outputs": [
        {
          "output_type": "stream",
          "name": "stdout",
          "text": [
            "[0]\ttest_era5-rmse:0.11892\ttest_sat-rmse:0.38786\ttrain_sat-rmse:0.32433\n",
            "[1]\ttest_era5-rmse:0.11875\ttest_sat-rmse:0.38672\ttrain_sat-rmse:0.32287\n",
            "[2]\ttest_era5-rmse:0.11861\ttest_sat-rmse:0.38560\ttrain_sat-rmse:0.32141\n",
            "[3]\ttest_era5-rmse:0.11851\ttest_sat-rmse:0.38450\ttrain_sat-rmse:0.31995\n",
            "[4]\ttest_era5-rmse:0.11842\ttest_sat-rmse:0.38342\ttrain_sat-rmse:0.31853\n",
            "[5]\ttest_era5-rmse:0.11835\ttest_sat-rmse:0.38238\ttrain_sat-rmse:0.31715\n",
            "[6]\ttest_era5-rmse:0.11831\ttest_sat-rmse:0.38134\ttrain_sat-rmse:0.31578\n",
            "[7]\ttest_era5-rmse:0.11830\ttest_sat-rmse:0.38030\ttrain_sat-rmse:0.31443\n",
            "[8]\ttest_era5-rmse:0.11828\ttest_sat-rmse:0.37933\ttrain_sat-rmse:0.31309\n",
            "[9]\ttest_era5-rmse:0.11823\ttest_sat-rmse:0.37832\ttrain_sat-rmse:0.31175\n",
            "[10]\ttest_era5-rmse:0.11824\ttest_sat-rmse:0.37738\ttrain_sat-rmse:0.31045\n",
            "[11]\ttest_era5-rmse:0.11829\ttest_sat-rmse:0.37641\ttrain_sat-rmse:0.30913\n",
            "[12]\ttest_era5-rmse:0.11831\ttest_sat-rmse:0.37548\ttrain_sat-rmse:0.30785\n",
            "[13]\ttest_era5-rmse:0.11837\ttest_sat-rmse:0.37449\ttrain_sat-rmse:0.30657\n",
            "[14]\ttest_era5-rmse:0.11844\ttest_sat-rmse:0.37361\ttrain_sat-rmse:0.30531\n",
            "[15]\ttest_era5-rmse:0.11853\ttest_sat-rmse:0.37269\ttrain_sat-rmse:0.30407\n",
            "[16]\ttest_era5-rmse:0.11861\ttest_sat-rmse:0.37180\ttrain_sat-rmse:0.30285\n",
            "[17]\ttest_era5-rmse:0.11877\ttest_sat-rmse:0.37086\ttrain_sat-rmse:0.30169\n",
            "[18]\ttest_era5-rmse:0.11888\ttest_sat-rmse:0.36990\ttrain_sat-rmse:0.30049\n",
            "[19]\ttest_era5-rmse:0.11902\ttest_sat-rmse:0.36909\ttrain_sat-rmse:0.29933\n",
            "[20]\ttest_era5-rmse:0.11914\ttest_sat-rmse:0.36818\ttrain_sat-rmse:0.29819\n",
            "[21]\ttest_era5-rmse:0.11932\ttest_sat-rmse:0.36735\ttrain_sat-rmse:0.29705\n",
            "[22]\ttest_era5-rmse:0.11941\ttest_sat-rmse:0.36646\ttrain_sat-rmse:0.29590\n",
            "[23]\ttest_era5-rmse:0.11958\ttest_sat-rmse:0.36558\ttrain_sat-rmse:0.29483\n",
            "[24]\ttest_era5-rmse:0.11969\ttest_sat-rmse:0.36471\ttrain_sat-rmse:0.29372\n",
            "[25]\ttest_era5-rmse:0.11981\ttest_sat-rmse:0.36389\ttrain_sat-rmse:0.29264\n",
            "[26]\ttest_era5-rmse:0.12000\ttest_sat-rmse:0.36311\ttrain_sat-rmse:0.29156\n",
            "[27]\ttest_era5-rmse:0.12014\ttest_sat-rmse:0.36227\ttrain_sat-rmse:0.29051\n",
            "[28]\ttest_era5-rmse:0.12031\ttest_sat-rmse:0.36151\ttrain_sat-rmse:0.28943\n",
            "[29]\ttest_era5-rmse:0.12048\ttest_sat-rmse:0.36073\ttrain_sat-rmse:0.28838\n",
            "[30]\ttest_era5-rmse:0.12071\ttest_sat-rmse:0.35998\ttrain_sat-rmse:0.28735\n",
            "[31]\ttest_era5-rmse:0.12091\ttest_sat-rmse:0.35922\ttrain_sat-rmse:0.28632\n",
            "[32]\ttest_era5-rmse:0.12110\ttest_sat-rmse:0.35850\ttrain_sat-rmse:0.28532\n",
            "[33]\ttest_era5-rmse:0.12133\ttest_sat-rmse:0.35775\ttrain_sat-rmse:0.28431\n",
            "[34]\ttest_era5-rmse:0.12158\ttest_sat-rmse:0.35710\ttrain_sat-rmse:0.28330\n",
            "[35]\ttest_era5-rmse:0.12179\ttest_sat-rmse:0.35640\ttrain_sat-rmse:0.28233\n",
            "[36]\ttest_era5-rmse:0.12203\ttest_sat-rmse:0.35570\ttrain_sat-rmse:0.28137\n",
            "[37]\ttest_era5-rmse:0.12227\ttest_sat-rmse:0.35509\ttrain_sat-rmse:0.28043\n",
            "[38]\ttest_era5-rmse:0.12250\ttest_sat-rmse:0.35446\ttrain_sat-rmse:0.27948\n",
            "[39]\ttest_era5-rmse:0.12273\ttest_sat-rmse:0.35384\ttrain_sat-rmse:0.27855\n",
            "[40]\ttest_era5-rmse:0.12292\ttest_sat-rmse:0.35328\ttrain_sat-rmse:0.27764\n",
            "[41]\ttest_era5-rmse:0.12318\ttest_sat-rmse:0.35267\ttrain_sat-rmse:0.27674\n",
            "[42]\ttest_era5-rmse:0.12347\ttest_sat-rmse:0.35207\ttrain_sat-rmse:0.27586\n",
            "[43]\ttest_era5-rmse:0.12372\ttest_sat-rmse:0.35155\ttrain_sat-rmse:0.27500\n",
            "[44]\ttest_era5-rmse:0.12403\ttest_sat-rmse:0.35089\ttrain_sat-rmse:0.27414\n",
            "[45]\ttest_era5-rmse:0.12418\ttest_sat-rmse:0.35022\ttrain_sat-rmse:0.27323\n",
            "[46]\ttest_era5-rmse:0.12437\ttest_sat-rmse:0.34973\ttrain_sat-rmse:0.27239\n",
            "[47]\ttest_era5-rmse:0.12462\ttest_sat-rmse:0.34917\ttrain_sat-rmse:0.27155\n",
            "[48]\ttest_era5-rmse:0.12488\ttest_sat-rmse:0.34860\ttrain_sat-rmse:0.27069\n",
            "[49]\ttest_era5-rmse:0.12508\ttest_sat-rmse:0.34800\ttrain_sat-rmse:0.26986\n",
            "[50]\ttest_era5-rmse:0.12525\ttest_sat-rmse:0.34742\ttrain_sat-rmse:0.26906\n",
            "[51]\ttest_era5-rmse:0.12546\ttest_sat-rmse:0.34683\ttrain_sat-rmse:0.26829\n",
            "[52]\ttest_era5-rmse:0.12567\ttest_sat-rmse:0.34626\ttrain_sat-rmse:0.26754\n",
            "[53]\ttest_era5-rmse:0.12592\ttest_sat-rmse:0.34577\ttrain_sat-rmse:0.26678\n",
            "[54]\ttest_era5-rmse:0.12614\ttest_sat-rmse:0.34520\ttrain_sat-rmse:0.26597\n",
            "[55]\ttest_era5-rmse:0.12640\ttest_sat-rmse:0.34467\ttrain_sat-rmse:0.26528\n",
            "[56]\ttest_era5-rmse:0.12665\ttest_sat-rmse:0.34419\ttrain_sat-rmse:0.26454\n",
            "[57]\ttest_era5-rmse:0.12690\ttest_sat-rmse:0.34371\ttrain_sat-rmse:0.26390\n",
            "[58]\ttest_era5-rmse:0.12715\ttest_sat-rmse:0.34324\ttrain_sat-rmse:0.26317\n",
            "[59]\ttest_era5-rmse:0.12738\ttest_sat-rmse:0.34273\ttrain_sat-rmse:0.26244\n",
            "[60]\ttest_era5-rmse:0.12762\ttest_sat-rmse:0.34226\ttrain_sat-rmse:0.26177\n",
            "[61]\ttest_era5-rmse:0.12787\ttest_sat-rmse:0.34177\ttrain_sat-rmse:0.26106\n",
            "[62]\ttest_era5-rmse:0.12812\ttest_sat-rmse:0.34131\ttrain_sat-rmse:0.26041\n",
            "[63]\ttest_era5-rmse:0.12837\ttest_sat-rmse:0.34086\ttrain_sat-rmse:0.25974\n",
            "[64]\ttest_era5-rmse:0.12862\ttest_sat-rmse:0.34039\ttrain_sat-rmse:0.25906\n",
            "[65]\ttest_era5-rmse:0.12882\ttest_sat-rmse:0.33996\ttrain_sat-rmse:0.25834\n",
            "[66]\ttest_era5-rmse:0.12902\ttest_sat-rmse:0.33949\ttrain_sat-rmse:0.25766\n",
            "[67]\ttest_era5-rmse:0.12925\ttest_sat-rmse:0.33903\ttrain_sat-rmse:0.25698\n",
            "[68]\ttest_era5-rmse:0.12946\ttest_sat-rmse:0.33861\ttrain_sat-rmse:0.25628\n",
            "[69]\ttest_era5-rmse:0.12967\ttest_sat-rmse:0.33821\ttrain_sat-rmse:0.25563\n",
            "[70]\ttest_era5-rmse:0.12991\ttest_sat-rmse:0.33776\ttrain_sat-rmse:0.25497\n",
            "[71]\ttest_era5-rmse:0.13013\ttest_sat-rmse:0.33733\ttrain_sat-rmse:0.25429\n",
            "[72]\ttest_era5-rmse:0.13035\ttest_sat-rmse:0.33694\ttrain_sat-rmse:0.25366\n",
            "[73]\ttest_era5-rmse:0.13054\ttest_sat-rmse:0.33657\ttrain_sat-rmse:0.25308\n",
            "[74]\ttest_era5-rmse:0.13078\ttest_sat-rmse:0.33619\ttrain_sat-rmse:0.25247\n",
            "[75]\ttest_era5-rmse:0.13098\ttest_sat-rmse:0.33575\ttrain_sat-rmse:0.25180\n",
            "[76]\ttest_era5-rmse:0.13119\ttest_sat-rmse:0.33531\ttrain_sat-rmse:0.25114\n",
            "[77]\ttest_era5-rmse:0.13144\ttest_sat-rmse:0.33495\ttrain_sat-rmse:0.25051\n",
            "[78]\ttest_era5-rmse:0.13167\ttest_sat-rmse:0.33457\ttrain_sat-rmse:0.24989\n",
            "[79]\ttest_era5-rmse:0.13186\ttest_sat-rmse:0.33402\ttrain_sat-rmse:0.24926\n",
            "[80]\ttest_era5-rmse:0.13212\ttest_sat-rmse:0.33365\ttrain_sat-rmse:0.24865\n",
            "[81]\ttest_era5-rmse:0.13233\ttest_sat-rmse:0.33329\ttrain_sat-rmse:0.24806\n",
            "[82]\ttest_era5-rmse:0.13256\ttest_sat-rmse:0.33278\ttrain_sat-rmse:0.24746\n",
            "[83]\ttest_era5-rmse:0.13278\ttest_sat-rmse:0.33240\ttrain_sat-rmse:0.24683\n",
            "[84]\ttest_era5-rmse:0.13301\ttest_sat-rmse:0.33207\ttrain_sat-rmse:0.24626\n",
            "[85]\ttest_era5-rmse:0.13316\ttest_sat-rmse:0.33166\ttrain_sat-rmse:0.24563\n",
            "[86]\ttest_era5-rmse:0.13337\ttest_sat-rmse:0.33132\ttrain_sat-rmse:0.24508\n",
            "[87]\ttest_era5-rmse:0.13357\ttest_sat-rmse:0.33099\ttrain_sat-rmse:0.24451\n",
            "[88]\ttest_era5-rmse:0.13378\ttest_sat-rmse:0.33052\ttrain_sat-rmse:0.24392\n",
            "[89]\ttest_era5-rmse:0.13401\ttest_sat-rmse:0.33014\ttrain_sat-rmse:0.24335\n",
            "[90]\ttest_era5-rmse:0.13423\ttest_sat-rmse:0.32984\ttrain_sat-rmse:0.24281\n",
            "[91]\ttest_era5-rmse:0.13443\ttest_sat-rmse:0.32952\ttrain_sat-rmse:0.24226\n",
            "[92]\ttest_era5-rmse:0.13465\ttest_sat-rmse:0.32922\ttrain_sat-rmse:0.24172\n",
            "[93]\ttest_era5-rmse:0.13480\ttest_sat-rmse:0.32893\ttrain_sat-rmse:0.24119\n",
            "[94]\ttest_era5-rmse:0.13504\ttest_sat-rmse:0.32862\ttrain_sat-rmse:0.24064\n",
            "[95]\ttest_era5-rmse:0.13527\ttest_sat-rmse:0.32826\ttrain_sat-rmse:0.24010\n",
            "[96]\ttest_era5-rmse:0.13545\ttest_sat-rmse:0.32784\ttrain_sat-rmse:0.23955\n",
            "[97]\ttest_era5-rmse:0.13568\ttest_sat-rmse:0.32749\ttrain_sat-rmse:0.23904\n",
            "[98]\ttest_era5-rmse:0.13586\ttest_sat-rmse:0.32718\ttrain_sat-rmse:0.23849\n",
            "[99]\ttest_era5-rmse:0.13606\ttest_sat-rmse:0.32691\ttrain_sat-rmse:0.23798\n",
            "[100]\ttest_era5-rmse:0.13627\ttest_sat-rmse:0.32645\ttrain_sat-rmse:0.23743\n",
            "[101]\ttest_era5-rmse:0.13647\ttest_sat-rmse:0.32614\ttrain_sat-rmse:0.23692\n",
            "[102]\ttest_era5-rmse:0.13667\ttest_sat-rmse:0.32575\ttrain_sat-rmse:0.23641\n",
            "[103]\ttest_era5-rmse:0.13683\ttest_sat-rmse:0.32542\ttrain_sat-rmse:0.23588\n",
            "Test Mean Squared Error: 0.11\n"
          ]
        }
      ]
    },
    {
      "cell_type": "code",
      "source": [
        "# Extract RMSE values\n",
        "train_rmse = evals_result['test_sat']['rmse']\n",
        "test_rmse = evals_result['test_era5']['rmse']\n",
        "\n",
        "# Plot RMSE vs Boosting rounds\n",
        "plt.figure(figsize=(4, 4))\n",
        "plt.plot(train_rmse, label='CPR', color='blue', linestyle='--', linewidth=2)\n",
        "plt.plot(test_rmse, label='ERA5', color='red', linestyle='--', linewidth=2)\n",
        "#plt.plot(val_rmse, label='Validation RMSE', color='green')\n",
        "plt.xlabel('Boosting Rounds', fontsize=10, fontweight='bold')\n",
        "plt.ylabel('Snow RMSE (mm hr$^{-1}$)', fontsize=10, fontweight='bold')\n",
        "\n",
        "\n",
        "plt.xticks(fontsize=10, fontweight='bold')\n",
        "plt.yticks(fontsize=10, fontweight='bold')\n",
        "plt.tick_params(axis='both', which='major', length=6, width=2)\n",
        "plt.title('RMSE vs Boosting Rounds', fontsize=12, fontweight='bold')\n",
        "plt.legend(fontsize=10, frameon=False, loc='best', prop={'weight':'bold'})\n",
        "for spine in plt.gca().spines.values():\n",
        "    spine.set_linewidth(2)\n",
        "plt.grid(True, alpha=0.2)\n",
        "plt.show()"
      ],
      "metadata": {
        "id": "PauKCtMBHbYV",
        "outputId": "367b330b-0023-43d8-8fb0-e58242aba16c",
        "colab": {
          "base_uri": "https://localhost:8080/",
          "height": 414
        }
      },
      "id": "PauKCtMBHbYV",
      "execution_count": 68,
      "outputs": [
        {
          "output_type": "display_data",
          "data": {
            "text/plain": [
              "<Figure size 400x400 with 1 Axes>"
            ],
            "image/png": "[encoded data removed]"
          },
          "metadata": {}
        }
      ]
    },
    {
      "cell_type": "markdown",
      "source": [
        "Training the base learner for the rain rate estimation by first learning the ERA5 rain and then fine tuning on DPR datasets."
      ],
      "metadata": {
        "id": "mWAaca0cH8nC"
      },
      "id": "mWAaca0cH8nC"
    },
    {
      "cell_type": "code",
      "source": [
        "# Prepare training and testing datasets\n",
        "X_train_rain_era5 = df_era5_rain_rate_train[input_vars]\n",
        "y_train_rain_era5 = df_era5_rain_rate_train['DPR rain Rate']\n",
        "\n",
        "X_test_rain_era5 = df_era5_rain_rate_test[input_vars]\n",
        "y_test_rain_era5 = df_era5_rain_rate_test['DPR rain Rate']\n",
        "\n",
        "# Convert to DMatrix format\n",
        "dtrain_rain_era5 = xgb.DMatrix(X_train_rain_era5, label=y_train_rain_era5)\n",
        "dtest_rain_era5 = xgb.DMatrix(X_test_rain_era5, label=y_test_rain_era5)\n",
        "\n",
        "# Define evaluation metrics and watchlist\n",
        "evals = [(dtrain_rain_era5, 'train'), (dtest_rain_era5, 'test')]\n",
        "evals_result = {}\n",
        "\n",
        "# Define parameters for XGBoost\n",
        "params = {\n",
        "    'objective': 'reg:squarederror',\n",
        "    'seed': 42,\n",
        "    'learning_rate': 0.0392,\n",
        "    'max_depth': 14,\n",
        "    'reg_alpha': 4.52,\n",
        "    'reg_lambda': 7.139,\n",
        "    'n_estimators': 52,\n",
        "    'num_parallel_tree': 6,\n",
        "    'eval_metric': ['rmse']\n",
        "}\n",
        "\n",
        "# Train the model with early stopping\n",
        "xgb_reg_rain_era5 = xgb.train(\n",
        "    params,\n",
        "    dtrain_rain_era5,\n",
        "    num_boost_round=52,\n",
        "    evals=evals,\n",
        "    evals_result=evals_result,\n",
        "    early_stopping_rounds=5\n",
        ")"
      ],
      "metadata": {
        "id": "5aE7C_SfICci",
        "outputId": "eb19035a-f99b-4b23-f913-f59aa2a6c986",
        "colab": {
          "base_uri": "https://localhost:8080/"
        }
      },
      "id": "5aE7C_SfICci",
      "execution_count": 69,
      "outputs": [
        {
          "output_type": "stream",
          "name": "stderr",
          "text": [
            "/usr/local/lib/python3.11/dist-packages/xgboost/core.py:158: UserWarning: [17:26:59] WARNING: /workspace/src/learner.cc:740: \n",
            "Parameters: { \"n_estimators\" } are not used.\n",
            "\n",
            "  warnings.warn(smsg, UserWarning)\n"
          ]
        },
        {
          "output_type": "stream",
          "name": "stdout",
          "text": [
            "[0]\ttrain-rmse:0.60552\ttest-rmse:0.65906\n",
            "[1]\ttrain-rmse:0.59299\ttest-rmse:0.64787\n",
            "[2]\ttrain-rmse:0.58105\ttest-rmse:0.63739\n",
            "[3]\ttrain-rmse:0.56963\ttest-rmse:0.62747\n",
            "[4]\ttrain-rmse:0.55847\ttest-rmse:0.61808\n",
            "[5]\ttrain-rmse:0.54781\ttest-rmse:0.60915\n",
            "[6]\ttrain-rmse:0.53751\ttest-rmse:0.60066\n",
            "[7]\ttrain-rmse:0.52776\ttest-rmse:0.59303\n",
            "[8]\ttrain-rmse:0.51830\ttest-rmse:0.58549\n",
            "[9]\ttrain-rmse:0.50920\ttest-rmse:0.57824\n",
            "[10]\ttrain-rmse:0.50036\ttest-rmse:0.57056\n",
            "[11]\ttrain-rmse:0.49195\ttest-rmse:0.56388\n",
            "[12]\ttrain-rmse:0.48386\ttest-rmse:0.55775\n",
            "[13]\ttrain-rmse:0.47606\ttest-rmse:0.55228\n",
            "[14]\ttrain-rmse:0.46854\ttest-rmse:0.54733\n",
            "[15]\ttrain-rmse:0.46134\ttest-rmse:0.54249\n",
            "[16]\ttrain-rmse:0.45410\ttest-rmse:0.53730\n",
            "[17]\ttrain-rmse:0.44741\ttest-rmse:0.53274\n",
            "[18]\ttrain-rmse:0.44091\ttest-rmse:0.52759\n",
            "[19]\ttrain-rmse:0.43438\ttest-rmse:0.52313\n",
            "[20]\ttrain-rmse:0.42814\ttest-rmse:0.51874\n",
            "[21]\ttrain-rmse:0.42234\ttest-rmse:0.51479\n",
            "[22]\ttrain-rmse:0.41646\ttest-rmse:0.51132\n",
            "[23]\ttrain-rmse:0.41092\ttest-rmse:0.50774\n",
            "[24]\ttrain-rmse:0.40544\ttest-rmse:0.50361\n",
            "[25]\ttrain-rmse:0.40004\ttest-rmse:0.50036\n",
            "[26]\ttrain-rmse:0.39492\ttest-rmse:0.49677\n",
            "[27]\ttrain-rmse:0.38990\ttest-rmse:0.49380\n",
            "[28]\ttrain-rmse:0.38514\ttest-rmse:0.49068\n",
            "[29]\ttrain-rmse:0.38028\ttest-rmse:0.48835\n",
            "[30]\ttrain-rmse:0.37571\ttest-rmse:0.48649\n",
            "[31]\ttrain-rmse:0.37127\ttest-rmse:0.48399\n",
            "[32]\ttrain-rmse:0.36680\ttest-rmse:0.48124\n",
            "[33]\ttrain-rmse:0.36261\ttest-rmse:0.47929\n",
            "[34]\ttrain-rmse:0.35844\ttest-rmse:0.47702\n",
            "[35]\ttrain-rmse:0.35439\ttest-rmse:0.47542\n",
            "[36]\ttrain-rmse:0.35049\ttest-rmse:0.47370\n",
            "[37]\ttrain-rmse:0.34663\ttest-rmse:0.47235\n",
            "[38]\ttrain-rmse:0.34294\ttest-rmse:0.47094\n",
            "[39]\ttrain-rmse:0.33944\ttest-rmse:0.46901\n",
            "[40]\ttrain-rmse:0.33621\ttest-rmse:0.46689\n",
            "[41]\ttrain-rmse:0.33278\ttest-rmse:0.46507\n",
            "[42]\ttrain-rmse:0.32938\ttest-rmse:0.46403\n",
            "[43]\ttrain-rmse:0.32627\ttest-rmse:0.46271\n",
            "[44]\ttrain-rmse:0.32318\ttest-rmse:0.46105\n",
            "[45]\ttrain-rmse:0.32016\ttest-rmse:0.46001\n",
            "[46]\ttrain-rmse:0.31722\ttest-rmse:0.45885\n",
            "[47]\ttrain-rmse:0.31435\ttest-rmse:0.45786\n",
            "[48]\ttrain-rmse:0.31152\ttest-rmse:0.45694\n",
            "[49]\ttrain-rmse:0.30887\ttest-rmse:0.45573\n",
            "[50]\ttrain-rmse:0.30607\ttest-rmse:0.45459\n",
            "[51]\ttrain-rmse:0.30347\ttest-rmse:0.45372\n"
          ]
        }
      ]
    },
    {
      "cell_type": "code",
      "source": [
        "# Prepare training and testing datasets\n",
        "X_train_rain_dpr = df_dpr_rain_rate_train[input_vars]\n",
        "y_train_rain_dpr = df_dpr_rain_rate_train['DPR rain Rate']\n",
        "X_test_rain_dpr = df_dpr_rain_rate_test[input_vars]\n",
        "y_test_rain_dpr = df_dpr_rain_rate_test['DPR rain Rate']\n",
        "\n",
        "# Convert to DMatrix format\n",
        "dtrain_rain_rate_dpr = xgb.DMatrix(X_train_rain_dpr, label=y_train_rain_dpr)\n",
        "dtest_rain_rate_dpr = xgb.DMatrix(X_test_rain_dpr, label=y_test_rain_dpr)\n",
        "\n",
        "# Define evaluation datasets\n",
        "evals = [(dtest_rain_era5, 'test_era5'), (dtest_rain_rate_dpr, 'test_dpr'), (dtrain_rain_rate_dpr, 'train_dpr')]\n",
        "evals_result = {}\n",
        "\n",
        "# Set parameters for fine-tuning\n",
        "params = {\n",
        "    'objective': 'reg:squarederror',\n",
        "    'learning_rate': 0.01,\n",
        "    'eval_metric': 'rmse',\n",
        "    'max_depth': 15\n",
        "}\n",
        "\n",
        "# Continue training with the new data\n",
        "rain_rate_booster = xgb.train(\n",
        "    params,\n",
        "    dtrain_rain_rate_dpr,\n",
        "    num_boost_round=104,\n",
        "    evals=evals,\n",
        "    xgb_model=xgb_reg_rain_era5,  # pretrained model from ERA5\n",
        "    evals_result=evals_result,\n",
        "    verbose_eval=True\n",
        ")\n",
        "\n",
        "# Make predictions\n",
        "y_pred_rain_rate_dpr = rain_rate_booster.predict(dtest_rain_rate_dpr)\n",
        "\n",
        "# Evaluate performance\n",
        "mse_new = mean_squared_error(y_test_rain_dpr, y_pred_rain_rate_dpr)\n",
        "print(f\"Test Mean Squared Error: {mse_new:.2f}\")"
      ],
      "metadata": {
        "id": "eDQLby-4IZG6",
        "outputId": "3d05b4b5-b835-440b-8cde-ad4e10ccb222",
        "colab": {
          "base_uri": "https://localhost:8080/"
        }
      },
      "id": "eDQLby-4IZG6",
      "execution_count": 70,
      "outputs": [
        {
          "output_type": "stream",
          "name": "stdout",
          "text": [
            "[0]\ttest_era5-rmse:0.45387\ttest_dpr-rmse:2.62830\ttrain_dpr-rmse:2.60645\n",
            "[1]\ttest_era5-rmse:0.45416\ttest_dpr-rmse:2.61465\ttrain_dpr-rmse:2.59098\n",
            "[2]\ttest_era5-rmse:0.45460\ttest_dpr-rmse:2.60117\ttrain_dpr-rmse:2.57567\n",
            "[3]\ttest_era5-rmse:0.45504\ttest_dpr-rmse:2.58805\ttrain_dpr-rmse:2.56047\n",
            "[4]\ttest_era5-rmse:0.45560\ttest_dpr-rmse:2.57492\ttrain_dpr-rmse:2.54547\n",
            "[5]\ttest_era5-rmse:0.45619\ttest_dpr-rmse:2.56219\ttrain_dpr-rmse:2.53063\n",
            "[6]\ttest_era5-rmse:0.45698\ttest_dpr-rmse:2.54969\ttrain_dpr-rmse:2.51594\n",
            "[7]\ttest_era5-rmse:0.45759\ttest_dpr-rmse:2.53672\ttrain_dpr-rmse:2.50115\n",
            "[8]\ttest_era5-rmse:0.45833\ttest_dpr-rmse:2.52448\ttrain_dpr-rmse:2.48679\n",
            "[9]\ttest_era5-rmse:0.45926\ttest_dpr-rmse:2.51244\ttrain_dpr-rmse:2.47253\n",
            "[10]\ttest_era5-rmse:0.46022\ttest_dpr-rmse:2.49987\ttrain_dpr-rmse:2.45820\n",
            "[11]\ttest_era5-rmse:0.46126\ttest_dpr-rmse:2.48837\ttrain_dpr-rmse:2.44424\n",
            "[12]\ttest_era5-rmse:0.46246\ttest_dpr-rmse:2.47697\ttrain_dpr-rmse:2.43046\n",
            "[13]\ttest_era5-rmse:0.46367\ttest_dpr-rmse:2.46488\ttrain_dpr-rmse:2.41657\n",
            "[14]\ttest_era5-rmse:0.46498\ttest_dpr-rmse:2.45367\ttrain_dpr-rmse:2.40308\n",
            "[15]\ttest_era5-rmse:0.46618\ttest_dpr-rmse:2.44197\ttrain_dpr-rmse:2.38948\n",
            "[16]\ttest_era5-rmse:0.46765\ttest_dpr-rmse:2.43116\ttrain_dpr-rmse:2.37620\n",
            "[17]\ttest_era5-rmse:0.46916\ttest_dpr-rmse:2.42022\ttrain_dpr-rmse:2.36305\n",
            "[18]\ttest_era5-rmse:0.47060\ttest_dpr-rmse:2.40904\ttrain_dpr-rmse:2.34979\n",
            "[19]\ttest_era5-rmse:0.47219\ttest_dpr-rmse:2.39874\ttrain_dpr-rmse:2.33696\n",
            "[20]\ttest_era5-rmse:0.47380\ttest_dpr-rmse:2.38838\ttrain_dpr-rmse:2.32421\n",
            "[21]\ttest_era5-rmse:0.47553\ttest_dpr-rmse:2.37815\ttrain_dpr-rmse:2.31160\n",
            "[22]\ttest_era5-rmse:0.47711\ttest_dpr-rmse:2.36757\ttrain_dpr-rmse:2.29889\n",
            "[23]\ttest_era5-rmse:0.47885\ttest_dpr-rmse:2.35762\ttrain_dpr-rmse:2.28654\n",
            "[24]\ttest_era5-rmse:0.48064\ttest_dpr-rmse:2.34771\ttrain_dpr-rmse:2.27433\n",
            "[25]\ttest_era5-rmse:0.48250\ttest_dpr-rmse:2.33816\ttrain_dpr-rmse:2.26223\n",
            "[26]\ttest_era5-rmse:0.48430\ttest_dpr-rmse:2.32871\ttrain_dpr-rmse:2.25031\n",
            "[27]\ttest_era5-rmse:0.48614\ttest_dpr-rmse:2.31948\ttrain_dpr-rmse:2.23852\n",
            "[28]\ttest_era5-rmse:0.48803\ttest_dpr-rmse:2.31024\ttrain_dpr-rmse:2.22695\n",
            "[29]\ttest_era5-rmse:0.49001\ttest_dpr-rmse:2.30107\ttrain_dpr-rmse:2.21533\n",
            "[30]\ttest_era5-rmse:0.49186\ttest_dpr-rmse:2.29154\ttrain_dpr-rmse:2.20363\n",
            "[31]\ttest_era5-rmse:0.49381\ttest_dpr-rmse:2.28296\ttrain_dpr-rmse:2.19225\n",
            "[32]\ttest_era5-rmse:0.49576\ttest_dpr-rmse:2.27410\ttrain_dpr-rmse:2.18101\n",
            "[33]\ttest_era5-rmse:0.49767\ttest_dpr-rmse:2.26539\ttrain_dpr-rmse:2.16972\n",
            "[34]\ttest_era5-rmse:0.49956\ttest_dpr-rmse:2.25683\ttrain_dpr-rmse:2.15867\n",
            "[35]\ttest_era5-rmse:0.50153\ttest_dpr-rmse:2.24801\ttrain_dpr-rmse:2.14739\n",
            "[36]\ttest_era5-rmse:0.50358\ttest_dpr-rmse:2.23964\ttrain_dpr-rmse:2.13642\n",
            "[37]\ttest_era5-rmse:0.50551\ttest_dpr-rmse:2.23159\ttrain_dpr-rmse:2.12570\n",
            "[38]\ttest_era5-rmse:0.50726\ttest_dpr-rmse:2.22326\ttrain_dpr-rmse:2.11477\n",
            "[39]\ttest_era5-rmse:0.50920\ttest_dpr-rmse:2.21530\ttrain_dpr-rmse:2.10418\n",
            "[40]\ttest_era5-rmse:0.51114\ttest_dpr-rmse:2.20755\ttrain_dpr-rmse:2.09364\n",
            "[41]\ttest_era5-rmse:0.51317\ttest_dpr-rmse:2.19941\ttrain_dpr-rmse:2.08300\n",
            "[42]\ttest_era5-rmse:0.51509\ttest_dpr-rmse:2.19169\ttrain_dpr-rmse:2.07280\n",
            "[43]\ttest_era5-rmse:0.51704\ttest_dpr-rmse:2.18444\ttrain_dpr-rmse:2.06266\n",
            "[44]\ttest_era5-rmse:0.51890\ttest_dpr-rmse:2.17658\ttrain_dpr-rmse:2.05233\n",
            "[45]\ttest_era5-rmse:0.52089\ttest_dpr-rmse:2.16927\ttrain_dpr-rmse:2.04240\n",
            "[46]\ttest_era5-rmse:0.52284\ttest_dpr-rmse:2.16212\ttrain_dpr-rmse:2.03255\n",
            "[47]\ttest_era5-rmse:0.52475\ttest_dpr-rmse:2.15511\ttrain_dpr-rmse:2.02278\n",
            "[48]\ttest_era5-rmse:0.52670\ttest_dpr-rmse:2.14781\ttrain_dpr-rmse:2.01278\n",
            "[49]\ttest_era5-rmse:0.52863\ttest_dpr-rmse:2.14092\ttrain_dpr-rmse:2.00317\n",
            "[50]\ttest_era5-rmse:0.53043\ttest_dpr-rmse:2.13436\ttrain_dpr-rmse:1.99362\n",
            "[51]\ttest_era5-rmse:0.53248\ttest_dpr-rmse:2.12749\ttrain_dpr-rmse:1.98395\n",
            "[52]\ttest_era5-rmse:0.53433\ttest_dpr-rmse:2.12095\ttrain_dpr-rmse:1.97462\n",
            "[53]\ttest_era5-rmse:0.53629\ttest_dpr-rmse:2.11447\ttrain_dpr-rmse:1.96516\n",
            "[54]\ttest_era5-rmse:0.53840\ttest_dpr-rmse:2.10824\ttrain_dpr-rmse:1.95594\n",
            "[55]\ttest_era5-rmse:0.54033\ttest_dpr-rmse:2.10171\ttrain_dpr-rmse:1.94660\n",
            "[56]\ttest_era5-rmse:0.54219\ttest_dpr-rmse:2.09586\ttrain_dpr-rmse:1.93737\n",
            "[57]\ttest_era5-rmse:0.54404\ttest_dpr-rmse:2.08991\ttrain_dpr-rmse:1.92818\n",
            "[58]\ttest_era5-rmse:0.54590\ttest_dpr-rmse:2.08374\ttrain_dpr-rmse:1.91910\n",
            "[59]\ttest_era5-rmse:0.54784\ttest_dpr-rmse:2.07792\ttrain_dpr-rmse:1.91010\n",
            "[60]\ttest_era5-rmse:0.54971\ttest_dpr-rmse:2.07213\ttrain_dpr-rmse:1.90119\n",
            "[61]\ttest_era5-rmse:0.55171\ttest_dpr-rmse:2.06609\ttrain_dpr-rmse:1.89239\n",
            "[62]\ttest_era5-rmse:0.55363\ttest_dpr-rmse:2.06073\ttrain_dpr-rmse:1.88363\n",
            "[63]\ttest_era5-rmse:0.55555\ttest_dpr-rmse:2.05484\ttrain_dpr-rmse:1.87495\n",
            "[64]\ttest_era5-rmse:0.55748\ttest_dpr-rmse:2.04950\ttrain_dpr-rmse:1.86639\n",
            "[65]\ttest_era5-rmse:0.55951\ttest_dpr-rmse:2.04381\ttrain_dpr-rmse:1.85783\n",
            "[66]\ttest_era5-rmse:0.56157\ttest_dpr-rmse:2.03867\ttrain_dpr-rmse:1.84948\n",
            "[67]\ttest_era5-rmse:0.56362\ttest_dpr-rmse:2.03361\ttrain_dpr-rmse:1.84104\n",
            "[68]\ttest_era5-rmse:0.56554\ttest_dpr-rmse:2.02801\ttrain_dpr-rmse:1.83270\n",
            "[69]\ttest_era5-rmse:0.56751\ttest_dpr-rmse:2.02260\ttrain_dpr-rmse:1.82436\n",
            "[70]\ttest_era5-rmse:0.56951\ttest_dpr-rmse:2.01737\ttrain_dpr-rmse:1.81621\n",
            "[71]\ttest_era5-rmse:0.57151\ttest_dpr-rmse:2.01229\ttrain_dpr-rmse:1.80815\n",
            "[72]\ttest_era5-rmse:0.57339\ttest_dpr-rmse:2.00734\ttrain_dpr-rmse:1.80002\n",
            "[73]\ttest_era5-rmse:0.57534\ttest_dpr-rmse:2.00251\ttrain_dpr-rmse:1.79211\n",
            "[74]\ttest_era5-rmse:0.57720\ttest_dpr-rmse:1.99729\ttrain_dpr-rmse:1.78426\n",
            "[75]\ttest_era5-rmse:0.57925\ttest_dpr-rmse:1.99231\ttrain_dpr-rmse:1.77650\n",
            "[76]\ttest_era5-rmse:0.58129\ttest_dpr-rmse:1.98728\ttrain_dpr-rmse:1.76875\n",
            "[77]\ttest_era5-rmse:0.58332\ttest_dpr-rmse:1.98246\ttrain_dpr-rmse:1.76116\n",
            "[78]\ttest_era5-rmse:0.58515\ttest_dpr-rmse:1.97740\ttrain_dpr-rmse:1.75339\n",
            "[79]\ttest_era5-rmse:0.58716\ttest_dpr-rmse:1.97281\ttrain_dpr-rmse:1.74594\n",
            "[80]\ttest_era5-rmse:0.58918\ttest_dpr-rmse:1.96829\ttrain_dpr-rmse:1.73841\n",
            "[81]\ttest_era5-rmse:0.59120\ttest_dpr-rmse:1.96365\ttrain_dpr-rmse:1.73090\n",
            "[82]\ttest_era5-rmse:0.59324\ttest_dpr-rmse:1.95915\ttrain_dpr-rmse:1.72352\n",
            "[83]\ttest_era5-rmse:0.59527\ttest_dpr-rmse:1.95478\ttrain_dpr-rmse:1.71619\n",
            "[84]\ttest_era5-rmse:0.59713\ttest_dpr-rmse:1.95011\ttrain_dpr-rmse:1.70881\n",
            "[85]\ttest_era5-rmse:0.59904\ttest_dpr-rmse:1.94606\ttrain_dpr-rmse:1.70166\n",
            "[86]\ttest_era5-rmse:0.60096\ttest_dpr-rmse:1.94169\ttrain_dpr-rmse:1.69436\n",
            "[87]\ttest_era5-rmse:0.60271\ttest_dpr-rmse:1.93764\ttrain_dpr-rmse:1.68726\n",
            "[88]\ttest_era5-rmse:0.60456\ttest_dpr-rmse:1.93347\ttrain_dpr-rmse:1.68024\n",
            "[89]\ttest_era5-rmse:0.60634\ttest_dpr-rmse:1.92937\ttrain_dpr-rmse:1.67310\n",
            "[90]\ttest_era5-rmse:0.60809\ttest_dpr-rmse:1.92556\ttrain_dpr-rmse:1.66613\n",
            "[91]\ttest_era5-rmse:0.60990\ttest_dpr-rmse:1.92137\ttrain_dpr-rmse:1.65920\n",
            "[92]\ttest_era5-rmse:0.61174\ttest_dpr-rmse:1.91750\ttrain_dpr-rmse:1.65228\n",
            "[93]\ttest_era5-rmse:0.61356\ttest_dpr-rmse:1.91363\ttrain_dpr-rmse:1.64541\n",
            "[94]\ttest_era5-rmse:0.61530\ttest_dpr-rmse:1.90975\ttrain_dpr-rmse:1.63860\n",
            "[95]\ttest_era5-rmse:0.61718\ttest_dpr-rmse:1.90591\ttrain_dpr-rmse:1.63182\n",
            "[96]\ttest_era5-rmse:0.61889\ttest_dpr-rmse:1.90213\ttrain_dpr-rmse:1.62514\n",
            "[97]\ttest_era5-rmse:0.62060\ttest_dpr-rmse:1.89840\ttrain_dpr-rmse:1.61848\n",
            "[98]\ttest_era5-rmse:0.62242\ttest_dpr-rmse:1.89470\ttrain_dpr-rmse:1.61185\n",
            "[99]\ttest_era5-rmse:0.62416\ttest_dpr-rmse:1.89088\ttrain_dpr-rmse:1.60535\n",
            "[100]\ttest_era5-rmse:0.62576\ttest_dpr-rmse:1.88734\ttrain_dpr-rmse:1.59887\n",
            "[101]\ttest_era5-rmse:0.62755\ttest_dpr-rmse:1.88402\ttrain_dpr-rmse:1.59245\n",
            "[102]\ttest_era5-rmse:0.62922\ttest_dpr-rmse:1.88066\ttrain_dpr-rmse:1.58601\n",
            "[103]\ttest_era5-rmse:0.63089\ttest_dpr-rmse:1.87702\ttrain_dpr-rmse:1.57968\n",
            "Test Mean Squared Error: 3.52\n"
          ]
        }
      ]
    },
    {
      "cell_type": "code",
      "source": [
        "# Extract RMSE values\n",
        "train_rmse = evals_result['test_dpr']['rmse']\n",
        "test_rmse = evals_result['test_era5']['rmse']\n",
        "\n",
        "# Plot RMSE vs Boosting rounds\n",
        "plt.figure(figsize=(4, 4))\n",
        "plt.plot(train_rmse, label='DPR', color='blue', linestyle='--', linewidth=2)\n",
        "plt.plot(test_rmse, label='ERA5', color='red', linestyle='--', linewidth=2)\n",
        "#plt.plot(val_rmse, label='Validation RMSE', color='green')\n",
        "plt.xlabel('Boosting Rounds', fontsize=10, fontweight='bold')\n",
        "plt.ylabel('Rain RMSE (mm hr$^{-1}$)', fontsize=10, fontweight='bold')\n",
        "\n",
        "\n",
        "plt.xticks(fontsize=10, fontweight='bold')\n",
        "plt.yticks(fontsize=10, fontweight='bold')\n",
        "plt.tick_params(axis='both', which='major', length=6, width=2)\n",
        "plt.title('RMSE vs Boosting Rounds', fontsize=12, fontweight='bold')\n",
        "plt.legend(fontsize=10, frameon=False, loc='best', prop={'weight':'bold'})\n",
        "for spine in plt.gca().spines.values():\n",
        "    spine.set_linewidth(2)\n",
        "plt.grid(True, alpha=0.2)\n",
        "plt.show()"
      ],
      "metadata": {
        "id": "1oEmO1XVLfm0",
        "outputId": "955fec87-a2dc-4bfd-e1a3-71747be22638",
        "colab": {
          "base_uri": "https://localhost:8080/",
          "height": 414
        }
      },
      "id": "1oEmO1XVLfm0",
      "execution_count": 71,
      "outputs": [
        {
          "output_type": "display_data",
          "data": {
            "text/plain": [
              "<Figure size 400x400 with 1 Axes>"
            ],
            "image/png": "[encoded data removed]"
          },
          "metadata": {}
        }
      ]
    },
    {
      "cell_type": "markdown",
      "source": [
        "# **3.  Orbial Retrievals**"
      ],
      "metadata": {
        "id": "rLDFIi36RBjZ"
      },
      "id": "rLDFIi36RBjZ"
    },
    {
      "cell_type": "markdown",
      "source": [
        "In this section, the pre-trained models are loaded to retrieve rainfall and snowfall for two GMI orbits."
      ],
      "metadata": {
        "id": "d6OdX4q9RJnR"
      },
      "id": "d6OdX4q9RJnR"
    },
    {
      "cell_type": "markdown",
      "source": [
        "## **3.1) Running B-RAINS for the selected orbit**"
      ],
      "metadata": {
        "id": "ACaH2uC-RbLq"
      },
      "id": "ACaH2uC-RbLq"
    },
    {
      "cell_type": "markdown",
      "source": [],
      "metadata": {
        "id": "aXzHpfZ_Rj8I"
      },
      "id": "aXzHpfZ_Rj8I"
    }
  ],
  "metadata": {
    "kernelspec": {
      "display_name": "Python 3 (ipykernel)",
      "language": "python",
      "name": "python3"
    },
    "language_info": {
      "codemirror_mode": {
        "name": "ipython",
        "version": 3
      },
      "file_extension": ".py",
      "mimetype": "text/x-python",
      "name": "python",
      "nbconvert_exporter": "python",
      "pygments_lexer": "ipython3",
      "version": "3.11.11"
    },
    "colab": {
      "provenance": []
    }
  },
  "nbformat": 4,
  "nbformat_minor": 5
}