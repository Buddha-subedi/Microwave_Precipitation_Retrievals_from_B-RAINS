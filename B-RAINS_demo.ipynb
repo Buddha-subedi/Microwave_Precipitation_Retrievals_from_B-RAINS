{
 "cells": [
  {
   "cell_type": "markdown",
   "id": "5d842c86-c045-4eae-a4e8-1286a08ae7c6",
   "metadata": {},
   "source": [
    "[![Open In Colab](https://colab.research.google.com/assets/colab-badge.svg)](https://colab.research.google.com/github/Buddha-subedi/Microwave_Precipitation_Retrievals_from_B-RAINS/blob/main/B-RAINS_demo.ipynb)"
   ]
  },
  {
   "cell_type": "markdown",
   "id": "a813022b-b513-400d-8c4b-a1e09bfeb98c",
   "metadata": {},
   "source": [
    "# <center> <font color='blue'> **Boosted Transfer Learning for Passive Microwave Precipitation Retrievals** <center>\n",
    "\n",
    "#### <center> <font color='balck'> Buddha Subedi, Mahyar Garshasbi, Ardeshir Ebtehaj <center>\n",
    "#### <center> Saint Anthony Falls Laboratory, Department of Civil Environmental and Geo- Engineering, \n",
    "#### <center> University of Minnesota <center>\n",
    "#### <center> Date: May, 2025 (rev 01)\n",
    "\n",
    "---\n",
    "<p align=\"justify\"> This notebook representes the results of an algorithm, called the Boosted tRansfer-leArning for PMW precIpitationN Retrievals (B-RAINS) for passive microwave retrieval of precipitation. B-RAINS enables (i) the integration of the information content from ESMs into the retrieval process and (ii) the fusion of multi-satellite observations across varying spatial and temporal resolutions through meta-model learning. The architecture leverages transfer learning by incorporating low-level priors from ESMs and refining them with high-level features derived from satellite-based active retrievals, enhancing accuracy in regions and periods with limited training data. The algorithm first detects the precipitation occurrence and phase and then estimates its rate, while conditioning the results to some key cloud microphysical and environmental variables as further explained later on in Section 1.2. Through ensemble meta-modeling, B-RAINS combines data from multiple spaceborne radars operating at Ka, Ku, and W bands to improve the detection of rainfall and snowfall. Application and validation using data from the Global Precipitation Measurement (GPM) mission and CloudSat's Cloud Profiling Radar (CPR) show that B-RAINS achieves comparable accuracy to existing methods for rain retrievals and delivers substantial improvements in global snowfall estimates when benchmarked against version V07 of the official GPM data products and Multi-Radar/Multi-Sensor System (MRMS) precipitation estimates over the contiguous United States.\n",
    "\n",
    "This notebook is organized as follows. Section 1, describes the data including the GPM and CloudSat products as well as the ERA5 reanalysis data from the European Centre for Medium-Range Weather Forecasts (ECMWF). Section 2 describes the methodolgy for training the networks, and the last section provides an example for precipitation orbital retrieval using the proposed algorithm."
   ]
  },
  {
   "cell_type": "markdown",
   "id": "d495e3bc-9c78-4216-8d2c-c9663223408b",
   "metadata": {},
   "source": [
    "# **1. Data**"
   ]
  },
  {
   "cell_type": "markdown",
   "id": "3abe0569-6936-4365-83d2-3e40f5d4bde8",
   "metadata": {},
   "source": [
    "**1.1** **Data Description**\n",
    "\n",
    "In this study, we considered coincidences of GMI and CPR from April 2014 to July 2019, and coincidences of GMI and DPR data in 2015 and 2023. Furthermore, ancillary information related to atmospheric conditions, surface types and topography are added to all coincidences using the [ERA5](https://www.ecmwf.int/en/forecasts/datasets/reanalysis-datasets/era5) reanalysis products -- available at spatial resolution of 31km and [GTOPO](https://www.usgs.gov/centers/eros/science/usgs-eros-archive-digital-elevation-global-30-arc-second-elevation-gtopo30) -- available at spatial resolution of 1km. \n",
    "\n",
    "**Atmospheric Variables**\n",
    "*   tclw = Total Column Cloud Liquid Water ($\\rm kg/m^2$)\n",
    "*   tciw = Total Column Cloud Ice Water ($\\rm kg/m^2$)\n",
    "*   tcwv = Total Column Water Vapor ($\\rm kg/m^2$)\n",
    "*   cape = Convective Available Potential Energy ($\\rm j/kg$)\n",
    "*   t2m = 2m air temperature ($\\rm K$)\n",
    "*   u10 = 10m u-component of wind ($\\rm m/s$)\n",
    "*   v10 = 10m v-component of wind ($\\rm m/s$)\n",
    "*   tcslw = Total Column Supercooled Liquid Water ($\\rm \\frac{kg}{m^2}$)\n",
    "*   tcw = Total Column Water ($\\rm \\frac{kg}{m^3}$)\n",
    "*   cin = Convective Inhibition ($\\rm j/kg$)\n",
    "\n",
    "**Surface Type Variables**\n",
    "*   lsm = LandSeaMask\n",
    "*   siconc = Sea Ice Area Fraction\n",
    "*   sd = Snow Depth ($\\rm m$)\n",
    "*   asn = Snow Albedo (-)\n",
    "*   rsn = Snow Density\n",
    "*   swvl1 = Volumetric Soil Water Layer1 (-)\n",
    "\n",
    "**Orographic Variables**\n",
    "* Elevation ($\\rm m$)\n",
    "* Aspect\n",
    "\n",
    "The GMI-CPR coincidences rely on the level-II CloudSat products (R05) including the 2C-PRECIP-COLUMN  and the 2C-SNOW-PROFILE that contains near-surface rain and snowfall rates.  To avoid ground-clutter contamination over complex elevated terrains, the near-surface snowfall rate is reported at 3rd (5th) radar bin above the oceans (land) at 720 (1200) m above the surface.\n",
    "\n",
    "The 2A-DPR product, retrieved from Ku-band reflectivity, consists the near-surface precipitation phase and its intensity. It should be noted that the DPR algorithm uses precipitation phase at the lowest radar range gate uncontaminated by surface clutter, which may be 0.5--2.0 km above the surface (even over oceans). \n",
    "\n",
    "Figure 1, represents the way the coincidences between GMI and CloudSat profiling radar (CPR) and GMI and DPR are collected. For more details with respect to the CloudSat and GMI please refer to ([2](https://journals.ametsoc.org/view/journals/hydr/22/7/JHM-D-20-0296.1.xml))"
   ]
  },
  {
   "cell_type": "markdown",
   "id": "445b0918-b04e-45a9-a780-734d67410391",
   "metadata": {},
   "source": [
    "<div align=\"center\">\n",
    "  <img src=\"images/coincidence_image.png\" alt=\"Coincidence Image\" width=\"800\"/><br/>\n",
    "  <em><strong>Figure 1.</strong> Schematic of a CloudSat-GPM coincidence segment (left), and DPR-GMI coincidence (right).</em>\n",
    "</div>"
   ]
  },
  {
   "cell_type": "markdown",
   "id": "13a166a3-87a1-49f2-b332-7cccf6f091dd",
   "metadata": {},
   "source": [
    "Resolution mismatches between input and output data sources can introduce information redundancy and exacerbate the inherent non-uniqueness of the inverse problem in precipitation retrievals. In this study, all retrievals are performed at the nominal footprint resolution of GMI pixels (5.1$\\times$13.2~km). The total number of samples, after harmonization, in phase detection (rate estimation) is 7,000,000 from ERA5 (2,500,000 rain, 1,000,000 snow), 240,800 from CPR (47,123 snow), and 2,800,000 from DPR (1,700,000 rain) for DPR coincidences. The data sets are partitioned into 70, 15, and 15 percent for training, testing, and validation."
   ]
  },
  {
   "cell_type": "markdown",
   "id": "beeaf717-9df5-4e8a-9cb0-2f5503e2c0de",
   "metadata": {},
   "source": [
    "## **1.2 Database Organization and Loading**\n",
    "\n",
    "**Inputs for the phase detection and rate estimation are as follows:**\n",
    "> **Inputs:**\n",
    "\n",
    "*   $\\text{TB} = X_{train}(:,1:13)$ (Brightness Temperature at 13 GMI channels [K])\n",
    "*   $ \\text{tciw} = X_{train}(:,14)$ (Cloud Liquid Water Path)\n",
    "*   $\\text{tclw} = X_{train}(:,15)$ (Cloud Ice Water Path)\n",
    "*   $\\text{tcwv} = X_{train}(:,16)$ (2-meter Air Temperature)\n",
    "*   $\\text{t2m} = X_{train}(:,17)$ (Water Vapor Path)\n",
    "*   $\\text{cape} = X_{train}(:,18)$ (Convective Potential Energy)\n",
    "\n",
    "*   $\\text{u10} = X_{train}(:,19)$ (10m u-component of wind)\n",
    "*   $ \\text{v10} = X_{train}(:,20)$ (10m v-component of wind)\n",
    "*   $\\text{skt} = X_{train}(:,21)$ (Skin Temperature)\n",
    "*   $\\text{asn} = X_{train}(:,22)$ (Snow Albedo)\n",
    "*   $\\text{rsn} = X_{train}(:,23)$ (Snow Density)\n",
    "*   $\\text{cin} = X_{train}(:,24)$ (Convective Inhibition)\n",
    "\n",
    "*   $\\text{sd} = X_{train}(:,25)$ (Snow Depth)\n",
    "*   $ \\text{tcslw} = X_{train}(:,26)$ (Total Column Supercooled Liquid Water)\n",
    "*   $\\text{tcw} = X_{train}(:,27)$ (Total Column Water)\n",
    "*   $\\text{swvl1} = X_{train}(:,28)$ (Snow Albedo)\n",
    "*   $\\text{lsm} = X_{train}(:,29)$ (Snow Density)\n",
    "*   $\\text{siconc} = X_{train}(:,30)$ (Convective Inhibition)\n",
    "\n",
    "*   $\\text{Latitude} = X_{train}(:,31)$ (Snow Depth)\n",
    "*   $ \\text{Longitude} = X_{train}(:,32)$ (Total Column Supercooled Liquid Water)\n",
    "*   $\\text{Month} = X_{train}(:,33)$ (Total Column Water)\n",
    "*   $\\text{Day} = X_{train}(:,34)$ (Snow Albedo)\n",
    "*   $\\text{Elevation} = X_{train}(:,35)$ (Snow Density)\n",
    "*   $\\text{Aspect} = X_{train}(:,36)$ (Convective Inhibition)\n",
    "\n",
    "\n",
    "> **Outputs:**\n",
    "\n",
    "*   Output of the phase network is a vector containing three integer values **0 (no precipitation)**, **1 (rainfall)**, and **2 (snowfall)**\n",
    "\n",
    "**For the precipitation estimation, the inputs and outputs are as follows:**\n",
    "\n",
    "> **Inputs:**\n",
    "\n",
    "*    The same set of input features that was used for classification is used here as well\n",
    "\n",
    "> **Outputs**:\n",
    "\n",
    "*   Output of the estimation network is a vector containing rainfall/snowfall rate [$\\rm mm.hr^{-1}$]."
   ]
  },
  {
   "cell_type": "markdown",
   "id": "8daddb9a-4a1b-488e-b565-abe5db136e1b",
   "metadata": {},
   "source": [
    "## **1.3 Code**\n",
    "To run this notebook, you need to download this folder and run the code in the Local"
   ]
  },
  {
   "cell_type": "code",
   "execution_count": 1,
   "id": "3055bccb-7543-4c53-ae95-e7a0063d30a6",
   "metadata": {},
   "outputs": [],
   "source": [
    "import numpy as np\n",
    "import pandas as pd\n",
    "from pathlib import Path\n",
    "import xgboost as xgb\n",
    "import os\n",
    "import scipy.io\n",
    "import pmw_utils\n",
    "import importlib\n",
    "import matplotlib.pyplot as plt\n",
    "import matplotlib.colors as mcolors\n",
    "from sklearn.model_selection import train_test_split\n",
    "from sklearn.metrics import accuracy_score, confusion_matrix, f1_score, mean_squared_error\n",
    "import scipy.stats as stats\n",
    "from scipy.interpolate import interp1d\n",
    "importlib.reload(pmw_utils)\n",
    "from pmw_utils import plot_confusion_matrix, BRAINS_model"
   ]
  },
  {
   "cell_type": "code",
   "execution_count": 5,
   "id": "27601913-6816-487d-9546-72d3207d19b2",
   "metadata": {},
   "outputs": [
    {
     "name": "stdout",
     "output_type": "stream",
     "text": [
      "CPR Phase:\n",
      "  Train shape: (19264, 37)\n",
      "  Test shape:  (4816, 37)\n",
      "\n",
      "DPR Phase:\n",
      "  Train shape: (44800, 37)\n",
      "  Test shape:  (11200, 37)\n",
      "\n",
      "ERA5 Phase:\n",
      "  Train shape: (56000, 37)\n",
      "  Test shape:  (14000, 37)\n"
     ]
    }
   ],
   "source": [
    "paths = {\n",
    "    'training samples':   Path.cwd() / 'data' / 'cpr_phase_train.npz',\n",
    "    'testing samples':    Path.cwd() / 'data' / 'cpr_phase_test.npz'\n",
    "}\n",
    "\n",
    "data = {k: np.load(p) for k, p in paths.items()}\n",
    "df_train_cpr, df_test_cpr = (pd.DataFrame({k: v[k] for k in v.files}) for v in data.values())\n",
    "\n",
    "for name, df, sep in zip(\n",
    "    ['CPR Train sets for Classification', 'CPR Test sets for classification', 'CPR Validation sets for classification'],\n",
    "    [df_70_train_cpr, df_15_test_cpr, df_15_val_cpr],\n",
    "    ['##############################', '##############################', '']\n",
    "):\n",
    "    counts = df['Prcp flag'].value_counts().sort_index()\n",
    "    print(f\"**{name}**\\nTotal samples for classification: {len(df)}\")\n",
    "    print(f\"Clear: {counts.get(0,0)}, Rain: {counts.get(1,0)}, Snow: {counts.get(2,0)}\")\n",
    "    if sep: print(sep)"
   ]
  },
  {
   "cell_type": "code",
   "execution_count": 6,
   "id": "c7d29d58-31aa-4200-be5c-77fe0305af48",
   "metadata": {},
   "outputs": [],
   "source": [
    "from pathlib import Path\n",
    "\n",
    "# Define the output directory\n",
    "output_dir = Path(r'G:\\Shared drives\\SAFL Ebtehaj Group\\Buddha Research\\Research 1\\B-RAINS_demo\\data')\n",
    "\n",
    "# Ensure the output directory exists\n",
    "output_dir.mkdir(parents=True, exist_ok=True)\n",
    "\n",
    "# Save function\n",
    "def save_df_to_npz(df, filename):\n",
    "    np.savez(output_dir / filename, **{col: df[col].values for col in df.columns})\n",
    "\n",
    "# Save all DataFrames\n",
    "save_df_to_npz(df_cpr_phase_train, 'df_cpr_phase_train.npz')\n",
    "save_df_to_npz(df_cpr_phase_test,  'df_cpr_phase_test.npz')\n",
    "\n",
    "save_df_to_npz(df_dpr_phase_train, 'df_dpr_phase_train.npz')\n",
    "save_df_to_npz(df_dpr_phase_test,  'df_dpr_phase_test.npz')\n",
    "\n",
    "save_df_to_npz(df_era5_phase_train, 'df_era5_phase_train.npz')\n",
    "save_df_to_npz(df_era5_phase_test,  'df_era5_phase_test.npz')"
   ]
  },
  {
   "cell_type": "code",
   "execution_count": null,
   "id": "8a93ebf8-8bd3-4dae-9dd5-13e0fdf95193",
   "metadata": {},
   "outputs": [],
   "source": []
  }
 ],
 "metadata": {
  "kernelspec": {
   "display_name": "Python 3 (ipykernel)",
   "language": "python",
   "name": "python3"
  },
  "language_info": {
   "codemirror_mode": {
    "name": "ipython",
    "version": 3
   },
   "file_extension": ".py",
   "mimetype": "text/x-python",
   "name": "python",
   "nbconvert_exporter": "python",
   "pygments_lexer": "ipython3",
   "version": "3.11.11"
  }
 },
 "nbformat": 4,
 "nbformat_minor": 5
}
